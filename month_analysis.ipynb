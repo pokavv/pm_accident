{
 "cells": [
  {
   "cell_type": "code",
   "execution_count": 1,
   "id": "b2781a3b",
   "metadata": {},
   "outputs": [],
   "source": [
    "# pip install import_ipynb"
   ]
  },
  {
   "cell_type": "code",
   "execution_count": 2,
   "id": "ae236c6f",
   "metadata": {},
   "outputs": [],
   "source": [
    "from matplotlib import font_manager, rc\n",
    "import pandas as pd\n",
    "import numpy as np\n",
    "import matplotlib.pyplot as plt\n",
    "import seaborn as sns\n",
    "\n",
    "font_name = font_manager.FontProperties(fname='c:/windows/fonts/malgun.ttf').get_name()\n",
    "rc('font', family=font_name)"
   ]
  },
  {
   "cell_type": "code",
   "execution_count": 3,
   "id": "f9e36e32",
   "metadata": {},
   "outputs": [],
   "source": [
    "df_2017 = pd.read_csv('data_for_analysis/month/month_2017.csv')\n",
    "df_2018 = pd.read_csv('data_for_analysis/month/month_2018.csv')\n",
    "df_2019 = pd.read_csv('data_for_analysis/month/month_2019.csv')\n",
    "df_2020 = pd.read_csv('data_for_analysis/month/month_2020.csv')\n",
    "df_2021 = pd.read_csv('data_for_analysis/month/month_2021.csv')"
   ]
  },
  {
   "cell_type": "code",
   "execution_count": 4,
   "id": "6d2f9e4c",
   "metadata": {},
   "outputs": [],
   "source": [
    "df_2017 = df_2017.rename(columns={'Unnamed: 0': '2017년'})\n",
    "df_2018 = df_2018.rename(columns={'Unnamed: 0': '2018년'})\n",
    "df_2019 = df_2019.rename(columns={'Unnamed: 0': '2019년'})\n",
    "df_2020 = df_2020.rename(columns={'Unnamed: 0': '2020년'})\n",
    "df_2021 = df_2021.rename(columns={'Unnamed: 0': '2021년'})"
   ]
  },
  {
   "cell_type": "code",
   "execution_count": 5,
   "id": "6a16c8a4",
   "metadata": {},
   "outputs": [],
   "source": [
    "df_2017 = df_2017.set_index(['2017년'])\n",
    "df_2018 = df_2018.set_index(['2018년'])\n",
    "df_2019 = df_2019.set_index(['2019년'])\n",
    "df_2020 = df_2020.set_index(['2020년'])\n",
    "df_2021 = df_2021.set_index(['2021년'])"
   ]
  },
  {
   "cell_type": "code",
   "execution_count": 6,
   "id": "15d4c1da",
   "metadata": {},
   "outputs": [
    {
     "data": {
      "text/html": [
       "<div>\n",
       "<style scoped>\n",
       "    .dataframe tbody tr th:only-of-type {\n",
       "        vertical-align: middle;\n",
       "    }\n",
       "\n",
       "    .dataframe tbody tr th {\n",
       "        vertical-align: top;\n",
       "    }\n",
       "\n",
       "    .dataframe thead th {\n",
       "        text-align: right;\n",
       "    }\n",
       "</style>\n",
       "<table border=\"1\" class=\"dataframe\">\n",
       "  <thead>\n",
       "    <tr style=\"text-align: right;\">\n",
       "      <th></th>\n",
       "      <th>사고건수</th>\n",
       "      <th>사망자수</th>\n",
       "      <th>부상자수</th>\n",
       "    </tr>\n",
       "    <tr>\n",
       "      <th>2017년</th>\n",
       "      <th></th>\n",
       "      <th></th>\n",
       "      <th></th>\n",
       "    </tr>\n",
       "  </thead>\n",
       "  <tbody>\n",
       "    <tr>\n",
       "      <th>02월</th>\n",
       "      <td>2</td>\n",
       "      <td>0</td>\n",
       "      <td>2</td>\n",
       "    </tr>\n",
       "    <tr>\n",
       "      <th>03월</th>\n",
       "      <td>4</td>\n",
       "      <td>0</td>\n",
       "      <td>4</td>\n",
       "    </tr>\n",
       "    <tr>\n",
       "      <th>04월</th>\n",
       "      <td>4</td>\n",
       "      <td>0</td>\n",
       "      <td>5</td>\n",
       "    </tr>\n",
       "    <tr>\n",
       "      <th>05월</th>\n",
       "      <td>15</td>\n",
       "      <td>0</td>\n",
       "      <td>16</td>\n",
       "    </tr>\n",
       "    <tr>\n",
       "      <th>06월</th>\n",
       "      <td>7</td>\n",
       "      <td>1</td>\n",
       "      <td>8</td>\n",
       "    </tr>\n",
       "    <tr>\n",
       "      <th>07월</th>\n",
       "      <td>13</td>\n",
       "      <td>1</td>\n",
       "      <td>14</td>\n",
       "    </tr>\n",
       "    <tr>\n",
       "      <th>08월</th>\n",
       "      <td>17</td>\n",
       "      <td>1</td>\n",
       "      <td>17</td>\n",
       "    </tr>\n",
       "    <tr>\n",
       "      <th>09월</th>\n",
       "      <td>15</td>\n",
       "      <td>0</td>\n",
       "      <td>16</td>\n",
       "    </tr>\n",
       "    <tr>\n",
       "      <th>10월</th>\n",
       "      <td>18</td>\n",
       "      <td>0</td>\n",
       "      <td>20</td>\n",
       "    </tr>\n",
       "    <tr>\n",
       "      <th>11월</th>\n",
       "      <td>18</td>\n",
       "      <td>1</td>\n",
       "      <td>18</td>\n",
       "    </tr>\n",
       "    <tr>\n",
       "      <th>12월</th>\n",
       "      <td>4</td>\n",
       "      <td>0</td>\n",
       "      <td>4</td>\n",
       "    </tr>\n",
       "  </tbody>\n",
       "</table>\n",
       "</div>"
      ],
      "text/plain": [
       "       사고건수  사망자수  부상자수\n",
       "2017년                  \n",
       "02월       2     0     2\n",
       "03월       4     0     4\n",
       "04월       4     0     5\n",
       "05월      15     0    16\n",
       "06월       7     1     8\n",
       "07월      13     1    14\n",
       "08월      17     1    17\n",
       "09월      15     0    16\n",
       "10월      18     0    20\n",
       "11월      18     1    18\n",
       "12월       4     0     4"
      ]
     },
     "execution_count": 6,
     "metadata": {},
     "output_type": "execute_result"
    }
   ],
   "source": [
    "df_2017"
   ]
  },
  {
   "cell_type": "code",
   "execution_count": 7,
   "id": "dde060df",
   "metadata": {},
   "outputs": [
    {
     "data": {
      "text/html": [
       "<div>\n",
       "<style scoped>\n",
       "    .dataframe tbody tr th:only-of-type {\n",
       "        vertical-align: middle;\n",
       "    }\n",
       "\n",
       "    .dataframe tbody tr th {\n",
       "        vertical-align: top;\n",
       "    }\n",
       "\n",
       "    .dataframe thead th {\n",
       "        text-align: right;\n",
       "    }\n",
       "</style>\n",
       "<table border=\"1\" class=\"dataframe\">\n",
       "  <thead>\n",
       "    <tr style=\"text-align: right;\">\n",
       "      <th></th>\n",
       "      <th>사고건수</th>\n",
       "      <th>사망자수</th>\n",
       "      <th>부상자수</th>\n",
       "    </tr>\n",
       "    <tr>\n",
       "      <th>2018년</th>\n",
       "      <th></th>\n",
       "      <th></th>\n",
       "      <th></th>\n",
       "    </tr>\n",
       "  </thead>\n",
       "  <tbody>\n",
       "    <tr>\n",
       "      <th>01월</th>\n",
       "      <td>8</td>\n",
       "      <td>0</td>\n",
       "      <td>8</td>\n",
       "    </tr>\n",
       "    <tr>\n",
       "      <th>02월</th>\n",
       "      <td>8</td>\n",
       "      <td>0</td>\n",
       "      <td>8</td>\n",
       "    </tr>\n",
       "    <tr>\n",
       "      <th>03월</th>\n",
       "      <td>3</td>\n",
       "      <td>0</td>\n",
       "      <td>3</td>\n",
       "    </tr>\n",
       "    <tr>\n",
       "      <th>04월</th>\n",
       "      <td>16</td>\n",
       "      <td>0</td>\n",
       "      <td>20</td>\n",
       "    </tr>\n",
       "    <tr>\n",
       "      <th>05월</th>\n",
       "      <td>15</td>\n",
       "      <td>0</td>\n",
       "      <td>15</td>\n",
       "    </tr>\n",
       "    <tr>\n",
       "      <th>06월</th>\n",
       "      <td>17</td>\n",
       "      <td>0</td>\n",
       "      <td>18</td>\n",
       "    </tr>\n",
       "    <tr>\n",
       "      <th>07월</th>\n",
       "      <td>33</td>\n",
       "      <td>0</td>\n",
       "      <td>33</td>\n",
       "    </tr>\n",
       "    <tr>\n",
       "      <th>08월</th>\n",
       "      <td>28</td>\n",
       "      <td>2</td>\n",
       "      <td>28</td>\n",
       "    </tr>\n",
       "    <tr>\n",
       "      <th>09월</th>\n",
       "      <td>34</td>\n",
       "      <td>2</td>\n",
       "      <td>33</td>\n",
       "    </tr>\n",
       "    <tr>\n",
       "      <th>10월</th>\n",
       "      <td>23</td>\n",
       "      <td>0</td>\n",
       "      <td>27</td>\n",
       "    </tr>\n",
       "    <tr>\n",
       "      <th>11월</th>\n",
       "      <td>19</td>\n",
       "      <td>0</td>\n",
       "      <td>19</td>\n",
       "    </tr>\n",
       "    <tr>\n",
       "      <th>12월</th>\n",
       "      <td>21</td>\n",
       "      <td>0</td>\n",
       "      <td>26</td>\n",
       "    </tr>\n",
       "  </tbody>\n",
       "</table>\n",
       "</div>"
      ],
      "text/plain": [
       "       사고건수  사망자수  부상자수\n",
       "2018년                  \n",
       "01월       8     0     8\n",
       "02월       8     0     8\n",
       "03월       3     0     3\n",
       "04월      16     0    20\n",
       "05월      15     0    15\n",
       "06월      17     0    18\n",
       "07월      33     0    33\n",
       "08월      28     2    28\n",
       "09월      34     2    33\n",
       "10월      23     0    27\n",
       "11월      19     0    19\n",
       "12월      21     0    26"
      ]
     },
     "execution_count": 7,
     "metadata": {},
     "output_type": "execute_result"
    }
   ],
   "source": [
    "df_2018"
   ]
  },
  {
   "cell_type": "code",
   "execution_count": 8,
   "id": "144953c3",
   "metadata": {},
   "outputs": [
    {
     "data": {
      "text/html": [
       "<div>\n",
       "<style scoped>\n",
       "    .dataframe tbody tr th:only-of-type {\n",
       "        vertical-align: middle;\n",
       "    }\n",
       "\n",
       "    .dataframe tbody tr th {\n",
       "        vertical-align: top;\n",
       "    }\n",
       "\n",
       "    .dataframe thead th {\n",
       "        text-align: right;\n",
       "    }\n",
       "</style>\n",
       "<table border=\"1\" class=\"dataframe\">\n",
       "  <thead>\n",
       "    <tr style=\"text-align: right;\">\n",
       "      <th></th>\n",
       "      <th>사고건수</th>\n",
       "      <th>사망자수</th>\n",
       "      <th>부상자수</th>\n",
       "    </tr>\n",
       "    <tr>\n",
       "      <th>2019년</th>\n",
       "      <th></th>\n",
       "      <th></th>\n",
       "      <th></th>\n",
       "    </tr>\n",
       "  </thead>\n",
       "  <tbody>\n",
       "    <tr>\n",
       "      <th>01월</th>\n",
       "      <td>10</td>\n",
       "      <td>0</td>\n",
       "      <td>10</td>\n",
       "    </tr>\n",
       "    <tr>\n",
       "      <th>02월</th>\n",
       "      <td>13</td>\n",
       "      <td>1</td>\n",
       "      <td>13</td>\n",
       "    </tr>\n",
       "    <tr>\n",
       "      <th>03월</th>\n",
       "      <td>14</td>\n",
       "      <td>0</td>\n",
       "      <td>15</td>\n",
       "    </tr>\n",
       "    <tr>\n",
       "      <th>04월</th>\n",
       "      <td>19</td>\n",
       "      <td>0</td>\n",
       "      <td>19</td>\n",
       "    </tr>\n",
       "    <tr>\n",
       "      <th>05월</th>\n",
       "      <td>48</td>\n",
       "      <td>1</td>\n",
       "      <td>49</td>\n",
       "    </tr>\n",
       "    <tr>\n",
       "      <th>06월</th>\n",
       "      <td>40</td>\n",
       "      <td>0</td>\n",
       "      <td>44</td>\n",
       "    </tr>\n",
       "    <tr>\n",
       "      <th>07월</th>\n",
       "      <td>47</td>\n",
       "      <td>2</td>\n",
       "      <td>48</td>\n",
       "    </tr>\n",
       "    <tr>\n",
       "      <th>08월</th>\n",
       "      <td>61</td>\n",
       "      <td>0</td>\n",
       "      <td>67</td>\n",
       "    </tr>\n",
       "    <tr>\n",
       "      <th>09월</th>\n",
       "      <td>44</td>\n",
       "      <td>2</td>\n",
       "      <td>50</td>\n",
       "    </tr>\n",
       "    <tr>\n",
       "      <th>10월</th>\n",
       "      <td>60</td>\n",
       "      <td>1</td>\n",
       "      <td>65</td>\n",
       "    </tr>\n",
       "    <tr>\n",
       "      <th>11월</th>\n",
       "      <td>51</td>\n",
       "      <td>0</td>\n",
       "      <td>54</td>\n",
       "    </tr>\n",
       "    <tr>\n",
       "      <th>12월</th>\n",
       "      <td>40</td>\n",
       "      <td>1</td>\n",
       "      <td>39</td>\n",
       "    </tr>\n",
       "  </tbody>\n",
       "</table>\n",
       "</div>"
      ],
      "text/plain": [
       "       사고건수  사망자수  부상자수\n",
       "2019년                  \n",
       "01월      10     0    10\n",
       "02월      13     1    13\n",
       "03월      14     0    15\n",
       "04월      19     0    19\n",
       "05월      48     1    49\n",
       "06월      40     0    44\n",
       "07월      47     2    48\n",
       "08월      61     0    67\n",
       "09월      44     2    50\n",
       "10월      60     1    65\n",
       "11월      51     0    54\n",
       "12월      40     1    39"
      ]
     },
     "execution_count": 8,
     "metadata": {},
     "output_type": "execute_result"
    }
   ],
   "source": [
    "df_2019"
   ]
  },
  {
   "cell_type": "code",
   "execution_count": 9,
   "id": "22609b52",
   "metadata": {},
   "outputs": [
    {
     "data": {
      "text/html": [
       "<div>\n",
       "<style scoped>\n",
       "    .dataframe tbody tr th:only-of-type {\n",
       "        vertical-align: middle;\n",
       "    }\n",
       "\n",
       "    .dataframe tbody tr th {\n",
       "        vertical-align: top;\n",
       "    }\n",
       "\n",
       "    .dataframe thead th {\n",
       "        text-align: right;\n",
       "    }\n",
       "</style>\n",
       "<table border=\"1\" class=\"dataframe\">\n",
       "  <thead>\n",
       "    <tr style=\"text-align: right;\">\n",
       "      <th></th>\n",
       "      <th>사고건수</th>\n",
       "      <th>사망자수</th>\n",
       "      <th>부상자수</th>\n",
       "    </tr>\n",
       "    <tr>\n",
       "      <th>2020년</th>\n",
       "      <th></th>\n",
       "      <th></th>\n",
       "      <th></th>\n",
       "    </tr>\n",
       "  </thead>\n",
       "  <tbody>\n",
       "    <tr>\n",
       "      <th>01월</th>\n",
       "      <td>22</td>\n",
       "      <td>0</td>\n",
       "      <td>27</td>\n",
       "    </tr>\n",
       "    <tr>\n",
       "      <th>02월</th>\n",
       "      <td>36</td>\n",
       "      <td>1</td>\n",
       "      <td>36</td>\n",
       "    </tr>\n",
       "    <tr>\n",
       "      <th>03월</th>\n",
       "      <td>31</td>\n",
       "      <td>0</td>\n",
       "      <td>36</td>\n",
       "    </tr>\n",
       "    <tr>\n",
       "      <th>04월</th>\n",
       "      <td>56</td>\n",
       "      <td>1</td>\n",
       "      <td>63</td>\n",
       "    </tr>\n",
       "    <tr>\n",
       "      <th>05월</th>\n",
       "      <td>67</td>\n",
       "      <td>0</td>\n",
       "      <td>77</td>\n",
       "    </tr>\n",
       "    <tr>\n",
       "      <th>06월</th>\n",
       "      <td>63</td>\n",
       "      <td>1</td>\n",
       "      <td>68</td>\n",
       "    </tr>\n",
       "    <tr>\n",
       "      <th>07월</th>\n",
       "      <td>98</td>\n",
       "      <td>1</td>\n",
       "      <td>103</td>\n",
       "    </tr>\n",
       "    <tr>\n",
       "      <th>08월</th>\n",
       "      <td>86</td>\n",
       "      <td>0</td>\n",
       "      <td>96</td>\n",
       "    </tr>\n",
       "    <tr>\n",
       "      <th>09월</th>\n",
       "      <td>109</td>\n",
       "      <td>0</td>\n",
       "      <td>120</td>\n",
       "    </tr>\n",
       "    <tr>\n",
       "      <th>10월</th>\n",
       "      <td>163</td>\n",
       "      <td>4</td>\n",
       "      <td>184</td>\n",
       "    </tr>\n",
       "    <tr>\n",
       "      <th>11월</th>\n",
       "      <td>110</td>\n",
       "      <td>2</td>\n",
       "      <td>116</td>\n",
       "    </tr>\n",
       "    <tr>\n",
       "      <th>12월</th>\n",
       "      <td>56</td>\n",
       "      <td>0</td>\n",
       "      <td>59</td>\n",
       "    </tr>\n",
       "  </tbody>\n",
       "</table>\n",
       "</div>"
      ],
      "text/plain": [
       "       사고건수  사망자수  부상자수\n",
       "2020년                  \n",
       "01월      22     0    27\n",
       "02월      36     1    36\n",
       "03월      31     0    36\n",
       "04월      56     1    63\n",
       "05월      67     0    77\n",
       "06월      63     1    68\n",
       "07월      98     1   103\n",
       "08월      86     0    96\n",
       "09월     109     0   120\n",
       "10월     163     4   184\n",
       "11월     110     2   116\n",
       "12월      56     0    59"
      ]
     },
     "execution_count": 9,
     "metadata": {},
     "output_type": "execute_result"
    }
   ],
   "source": [
    "df_2020"
   ]
  },
  {
   "cell_type": "code",
   "execution_count": 10,
   "id": "a39cba2b",
   "metadata": {},
   "outputs": [
    {
     "data": {
      "text/html": [
       "<div>\n",
       "<style scoped>\n",
       "    .dataframe tbody tr th:only-of-type {\n",
       "        vertical-align: middle;\n",
       "    }\n",
       "\n",
       "    .dataframe tbody tr th {\n",
       "        vertical-align: top;\n",
       "    }\n",
       "\n",
       "    .dataframe thead th {\n",
       "        text-align: right;\n",
       "    }\n",
       "</style>\n",
       "<table border=\"1\" class=\"dataframe\">\n",
       "  <thead>\n",
       "    <tr style=\"text-align: right;\">\n",
       "      <th></th>\n",
       "      <th>사고건수</th>\n",
       "      <th>사망자수</th>\n",
       "      <th>부상자수</th>\n",
       "    </tr>\n",
       "    <tr>\n",
       "      <th>2021년</th>\n",
       "      <th></th>\n",
       "      <th></th>\n",
       "      <th></th>\n",
       "    </tr>\n",
       "  </thead>\n",
       "  <tbody>\n",
       "    <tr>\n",
       "      <th>01월</th>\n",
       "      <td>55</td>\n",
       "      <td>1</td>\n",
       "      <td>60</td>\n",
       "    </tr>\n",
       "    <tr>\n",
       "      <th>02월</th>\n",
       "      <td>51</td>\n",
       "      <td>2</td>\n",
       "      <td>56</td>\n",
       "    </tr>\n",
       "    <tr>\n",
       "      <th>03월</th>\n",
       "      <td>133</td>\n",
       "      <td>1</td>\n",
       "      <td>143</td>\n",
       "    </tr>\n",
       "    <tr>\n",
       "      <th>04월</th>\n",
       "      <td>173</td>\n",
       "      <td>0</td>\n",
       "      <td>201</td>\n",
       "    </tr>\n",
       "    <tr>\n",
       "      <th>05월</th>\n",
       "      <td>166</td>\n",
       "      <td>0</td>\n",
       "      <td>186</td>\n",
       "    </tr>\n",
       "    <tr>\n",
       "      <th>06월</th>\n",
       "      <td>167</td>\n",
       "      <td>2</td>\n",
       "      <td>179</td>\n",
       "    </tr>\n",
       "    <tr>\n",
       "      <th>07월</th>\n",
       "      <td>186</td>\n",
       "      <td>2</td>\n",
       "      <td>199</td>\n",
       "    </tr>\n",
       "    <tr>\n",
       "      <th>08월</th>\n",
       "      <td>181</td>\n",
       "      <td>1</td>\n",
       "      <td>197</td>\n",
       "    </tr>\n",
       "    <tr>\n",
       "      <th>09월</th>\n",
       "      <td>184</td>\n",
       "      <td>2</td>\n",
       "      <td>206</td>\n",
       "    </tr>\n",
       "    <tr>\n",
       "      <th>10월</th>\n",
       "      <td>174</td>\n",
       "      <td>4</td>\n",
       "      <td>189</td>\n",
       "    </tr>\n",
       "    <tr>\n",
       "      <th>11월</th>\n",
       "      <td>152</td>\n",
       "      <td>2</td>\n",
       "      <td>164</td>\n",
       "    </tr>\n",
       "    <tr>\n",
       "      <th>12월</th>\n",
       "      <td>113</td>\n",
       "      <td>2</td>\n",
       "      <td>121</td>\n",
       "    </tr>\n",
       "  </tbody>\n",
       "</table>\n",
       "</div>"
      ],
      "text/plain": [
       "       사고건수  사망자수  부상자수\n",
       "2021년                  \n",
       "01월      55     1    60\n",
       "02월      51     2    56\n",
       "03월     133     1   143\n",
       "04월     173     0   201\n",
       "05월     166     0   186\n",
       "06월     167     2   179\n",
       "07월     186     2   199\n",
       "08월     181     1   197\n",
       "09월     184     2   206\n",
       "10월     174     4   189\n",
       "11월     152     2   164\n",
       "12월     113     2   121"
      ]
     },
     "execution_count": 10,
     "metadata": {},
     "output_type": "execute_result"
    }
   ],
   "source": [
    "df_2021"
   ]
  },
  {
   "cell_type": "code",
   "execution_count": 11,
   "id": "0f7752f8",
   "metadata": {},
   "outputs": [],
   "source": [
    "df_2017_accident = df_2017['사고건수']\n",
    "df_2018_accident = df_2018['사고건수']\n",
    "df_2019_accident = df_2019['사고건수']\n",
    "df_2020_accident = df_2020['사고건수']\n",
    "df_2021_accident = df_2021['사고건수']"
   ]
  },
  {
   "cell_type": "code",
   "execution_count": 12,
   "id": "6d1452ed",
   "metadata": {},
   "outputs": [],
   "source": [
    "df_2017_death = df_2017['사망자수']\n",
    "df_2018_death = df_2018['사망자수']\n",
    "df_2019_death = df_2019['사망자수']\n",
    "df_2020_death = df_2020['사망자수']\n",
    "df_2021_death = df_2021['사망자수']"
   ]
  },
  {
   "cell_type": "code",
   "execution_count": 13,
   "id": "75bfc5fd",
   "metadata": {},
   "outputs": [],
   "source": [
    "df_2017_injury = df_2017['부상자수']\n",
    "df_2018_injury = df_2018['부상자수']\n",
    "df_2019_injury = df_2019['부상자수']\n",
    "df_2020_injury = df_2020['부상자수']\n",
    "df_2021_injury = df_2021['부상자수']"
   ]
  },
  {
   "cell_type": "markdown",
   "id": "3feb3c8f",
   "metadata": {},
   "source": [
    "## 사고건수"
   ]
  },
  {
   "cell_type": "code",
   "execution_count": 14,
   "id": "3faebb37",
   "metadata": {},
   "outputs": [
    {
     "data": {
      "text/plain": [
       "<AxesSubplot:xlabel='2017년'>"
      ]
     },
     "execution_count": 14,
     "metadata": {},
     "output_type": "execute_result"
    },
    {
     "data": {
      "image/png": "[encoded data removed]",
      "text/plain": [
       "<Figure size 432x288 with 1 Axes>"
      ]
     },
     "metadata": {
      "needs_background": "light"
     },
     "output_type": "display_data"
    }
   ],
   "source": [
    "df_2017_accident.plot()"
   ]
  },
  {
   "cell_type": "code",
   "execution_count": 15,
   "id": "5619f8d1",
   "metadata": {},
   "outputs": [
    {
     "data": {
      "text/plain": [
       "<AxesSubplot:xlabel='2018년'>"
      ]
     },
     "execution_count": 15,
     "metadata": {},
     "output_type": "execute_result"
    },
    {
     "data": {
      "image/png": "[encoded data removed]",
      "text/plain": [
       "<Figure size 432x288 with 1 Axes>"
      ]
     },
     "metadata": {
      "needs_background": "light"
     },
     "output_type": "display_data"
    }
   ],
   "source": [
    "df_2018_accident.plot()"
   ]
  },
  {
   "cell_type": "code",
   "execution_count": 16,
   "id": "9fbefc87",
   "metadata": {},
   "outputs": [
    {
     "data": {
      "text/plain": [
       "<AxesSubplot:xlabel='2019년'>"
      ]
     },
     "execution_count": 16,
     "metadata": {},
     "output_type": "execute_result"
    },
    {
     "data": {
      "image/png": "[encoded data removed]",
      "text/plain": [
       "<Figure size 432x288 with 1 Axes>"
      ]
     },
     "metadata": {
      "needs_background": "light"
     },
     "output_type": "display_data"
    }
   ],
   "source": [
    "df_2019_accident.plot()"
   ]
  },
  {
   "cell_type": "code",
   "execution_count": 17,
   "id": "82a171ba",
   "metadata": {},
   "outputs": [
    {
     "data": {
      "text/plain": [
       "<AxesSubplot:xlabel='2020년'>"
      ]
     },
     "execution_count": 17,
     "metadata": {},
     "output_type": "execute_result"
    },
    {
     "data": {
      "image/png": "[encoded data removed]",
      "text/plain": [
       "<Figure size 432x288 with 1 Axes>"
      ]
     },
     "metadata": {
      "needs_background": "light"
     },
     "output_type": "display_data"
    }
   ],
   "source": [
    "df_2020_accident.plot()"
   ]
  },
  {
   "cell_type": "code",
   "execution_count": 18,
   "id": "7ccdef5e",
   "metadata": {},
   "outputs": [
    {
     "data": {
      "text/plain": [
       "<AxesSubplot:xlabel='2021년'>"
      ]
     },
     "execution_count": 18,
     "metadata": {},
     "output_type": "execute_result"
    },
    {
     "data": {
      "image/png": "[encoded data removed]",
      "text/plain": [
       "<Figure size 432x288 with 1 Axes>"
      ]
     },
     "metadata": {
      "needs_background": "light"
     },
     "output_type": "display_data"
    }
   ],
   "source": [
    "df_2021_accident.plot()"
   ]
  },
  {
   "cell_type": "markdown",
   "id": "c426059b",
   "metadata": {},
   "source": [
    "## 사망건수"
   ]
  },
  {
   "cell_type": "code",
   "execution_count": 19,
   "id": "205479de",
   "metadata": {},
   "outputs": [
    {
     "data": {
      "text/plain": [
       "02월    0\n",
       "03월    0\n",
       "04월    0\n",
       "05월    0\n",
       "06월    1\n",
       "07월    1\n",
       "08월    1\n",
       "09월    0\n",
       "10월    0\n",
       "11월    1\n",
       "12월    0\n",
       "01월    0\n",
       "02월    0\n",
       "03월    0\n",
       "04월    0\n",
       "05월    0\n",
       "06월    0\n",
       "07월    0\n",
       "08월    2\n",
       "09월    2\n",
       "10월    0\n",
       "11월    0\n",
       "12월    0\n",
       "01월    0\n",
       "02월    1\n",
       "03월    0\n",
       "04월    0\n",
       "05월    1\n",
       "06월    0\n",
       "07월    2\n",
       "08월    0\n",
       "09월    2\n",
       "10월    1\n",
       "11월    0\n",
       "12월    1\n",
       "01월    0\n",
       "02월    1\n",
       "03월    0\n",
       "04월    1\n",
       "05월    0\n",
       "06월    1\n",
       "07월    1\n",
       "08월    0\n",
       "09월    0\n",
       "10월    4\n",
       "11월    2\n",
       "12월    0\n",
       "01월    1\n",
       "02월    2\n",
       "03월    1\n",
       "04월    0\n",
       "05월    0\n",
       "06월    2\n",
       "07월    2\n",
       "08월    1\n",
       "09월    2\n",
       "10월    4\n",
       "11월    2\n",
       "12월    2\n",
       "Name: 사망자수, dtype: int64"
      ]
     },
     "execution_count": 19,
     "metadata": {},
     "output_type": "execute_result"
    }
   ],
   "source": [
    "death_list = [df_2017_death, df_2018_death, df_2019_death, df_2020_death, df_2021_death]\n",
    "df_death_concat = pd.concat(death_list)\n",
    "df_death_concat"
   ]
  },
  {
   "cell_type": "code",
   "execution_count": 20,
   "id": "3fe95cdb",
   "metadata": {},
   "outputs": [
    {
     "data": {
      "text/plain": [
       "0.7627118644067796"
      ]
     },
     "execution_count": 20,
     "metadata": {},
     "output_type": "execute_result"
    }
   ],
   "source": [
    "df_death_concat.mean()"
   ]
  },
  {
   "cell_type": "code",
   "execution_count": 21,
   "id": "944d3091",
   "metadata": {},
   "outputs": [
    {
     "data": {
      "text/plain": [
       "45"
      ]
     },
     "execution_count": 21,
     "metadata": {},
     "output_type": "execute_result"
    }
   ],
   "source": [
    "df_death_concat.sum()"
   ]
  },
  {
   "cell_type": "code",
   "execution_count": 22,
   "id": "64627479",
   "metadata": {},
   "outputs": [
    {
     "data": {
      "text/plain": [
       "<AxesSubplot:xlabel='2017년'>"
      ]
     },
     "execution_count": 22,
     "metadata": {},
     "output_type": "execute_result"
    },
    {
     "data": {
      "image/png": "[encoded data removed]",
      "text/plain": [
       "<Figure size 432x288 with 1 Axes>"
      ]
     },
     "metadata": {
      "needs_background": "light"
     },
     "output_type": "display_data"
    }
   ],
   "source": [
    "df_2017_death.plot()"
   ]
  },
  {
   "cell_type": "code",
   "execution_count": 23,
   "id": "5254a9f3",
   "metadata": {},
   "outputs": [
    {
     "data": {
      "text/plain": [
       "<AxesSubplot:xlabel='2018년'>"
      ]
     },
     "execution_count": 23,
     "metadata": {},
     "output_type": "execute_result"
    },
    {
     "data": {
      "image/png": "[encoded data removed]",
      "text/plain": [
       "<Figure size 432x288 with 1 Axes>"
      ]
     },
     "metadata": {
      "needs_background": "light"
     },
     "output_type": "display_data"
    }
   ],
   "source": [
    "df_2018_death.plot()"
   ]
  },
  {
   "cell_type": "code",
   "execution_count": 24,
   "id": "23e5dbd5",
   "metadata": {},
   "outputs": [
    {
     "data": {
      "text/plain": [
       "<AxesSubplot:xlabel='2019년'>"
      ]
     },
     "execution_count": 24,
     "metadata": {},
     "output_type": "execute_result"
    },
    {
     "data": {
      "image/png": "[encoded data removed]",
      "text/plain": [
       "<Figure size 432x288 with 1 Axes>"
      ]
     },
     "metadata": {
      "needs_background": "light"
     },
     "output_type": "display_data"
    }
   ],
   "source": [
    "df_2019_death.plot()"
   ]
  },
  {
   "cell_type": "code",
   "execution_count": 25,
   "id": "d4a135c8",
   "metadata": {},
   "outputs": [
    {
     "data": {
      "text/plain": [
       "<AxesSubplot:xlabel='2020년'>"
      ]
     },
     "execution_count": 25,
     "metadata": {},
     "output_type": "execute_result"
    },
    {
     "data": {
      "image/png": "[encoded data removed]",
      "text/plain": [
       "<Figure size 432x288 with 1 Axes>"
      ]
     },
     "metadata": {
      "needs_background": "light"
     },
     "output_type": "display_data"
    }
   ],
   "source": [
    "df_2020_death.plot()"
   ]
  },
  {
   "cell_type": "code",
   "execution_count": 26,
   "id": "9a3fe4af",
   "metadata": {},
   "outputs": [
    {
     "data": {
      "text/plain": [
       "<AxesSubplot:xlabel='2021년'>"
      ]
     },
     "execution_count": 26,
     "metadata": {},
     "output_type": "execute_result"
    },
    {
     "data": {
      "image/png": "[encoded data removed]",
      "text/plain": [
       "<Figure size 432x288 with 1 Axes>"
      ]
     },
     "metadata": {
      "needs_background": "light"
     },
     "output_type": "display_data"
    }
   ],
   "source": [
    "df_2021_death.plot()"
   ]
  },
  {
   "cell_type": "markdown",
   "id": "805a959e",
   "metadata": {},
   "source": [
    "## 부상자수"
   ]
  },
  {
   "cell_type": "code",
   "execution_count": 27,
   "id": "594f08bb",
   "metadata": {},
   "outputs": [
    {
     "data": {
      "text/plain": [
       "02월      2\n",
       "03월      4\n",
       "04월      5\n",
       "05월     16\n",
       "06월      8\n",
       "07월     14\n",
       "08월     17\n",
       "09월     16\n",
       "10월     20\n",
       "11월     18\n",
       "12월      4\n",
       "01월      8\n",
       "02월      8\n",
       "03월      3\n",
       "04월     20\n",
       "05월     15\n",
       "06월     18\n",
       "07월     33\n",
       "08월     28\n",
       "09월     33\n",
       "10월     27\n",
       "11월     19\n",
       "12월     26\n",
       "01월     10\n",
       "02월     13\n",
       "03월     15\n",
       "04월     19\n",
       "05월     49\n",
       "06월     44\n",
       "07월     48\n",
       "08월     67\n",
       "09월     50\n",
       "10월     65\n",
       "11월     54\n",
       "12월     39\n",
       "01월     27\n",
       "02월     36\n",
       "03월     36\n",
       "04월     63\n",
       "05월     77\n",
       "06월     68\n",
       "07월    103\n",
       "08월     96\n",
       "09월    120\n",
       "10월    184\n",
       "11월    116\n",
       "12월     59\n",
       "01월     60\n",
       "02월     56\n",
       "03월    143\n",
       "04월    201\n",
       "05월    186\n",
       "06월    179\n",
       "07월    199\n",
       "08월    197\n",
       "09월    206\n",
       "10월    189\n",
       "11월    164\n",
       "12월    121\n",
       "Name: 부상자수, dtype: int64"
      ]
     },
     "execution_count": 27,
     "metadata": {},
     "output_type": "execute_result"
    }
   ],
   "source": [
    "injury_list = [df_2017_injury, df_2018_injury, df_2019_injury, df_2020_injury, df_2021_injury]\n",
    "df_injury_concat = pd.concat(injury_list)\n",
    "df_injury_concat"
   ]
  },
  {
   "cell_type": "code",
   "execution_count": 28,
   "id": "bfb88b9d",
   "metadata": {},
   "outputs": [
    {
     "data": {
      "text/plain": [
       "3721"
      ]
     },
     "execution_count": 28,
     "metadata": {},
     "output_type": "execute_result"
    }
   ],
   "source": [
    "df_injury_concat.sum()"
   ]
  },
  {
   "cell_type": "code",
   "execution_count": 29,
   "id": "88473485",
   "metadata": {},
   "outputs": [
    {
     "data": {
      "text/plain": [
       "63.067796610169495"
      ]
     },
     "execution_count": 29,
     "metadata": {},
     "output_type": "execute_result"
    }
   ],
   "source": [
    "df_injury_concat.mean()"
   ]
  },
  {
   "cell_type": "code",
   "execution_count": 30,
   "id": "52c6169b",
   "metadata": {},
   "outputs": [
    {
     "data": {
      "text/plain": [
       "<AxesSubplot:>"
      ]
     },
     "execution_count": 30,
     "metadata": {},
     "output_type": "execute_result"
    },
    {
     "data": {
      "image/png": "[encoded data removed]",
      "text/plain": [
       "<Figure size 432x288 with 1 Axes>"
      ]
     },
     "metadata": {
      "needs_background": "light"
     },
     "output_type": "display_data"
    }
   ],
   "source": [
    "df_injury_concat.plot()"
   ]
  },
  {
   "cell_type": "code",
   "execution_count": 31,
   "id": "8e97b0e5",
   "metadata": {},
   "outputs": [
    {
     "data": {
      "text/plain": [
       "<AxesSubplot:xlabel='2017년'>"
      ]
     },
     "execution_count": 31,
     "metadata": {},
     "output_type": "execute_result"
    },
    {
     "data": {
      "image/png": "[encoded data removed]",
      "text/plain": [
       "<Figure size 432x288 with 1 Axes>"
      ]
     },
     "metadata": {
      "needs_background": "light"
     },
     "output_type": "display_data"
    }
   ],
   "source": [
    "df_2017_injury.plot()"
   ]
  },
  {
   "cell_type": "code",
   "execution_count": 32,
   "id": "6dec8c2a",
   "metadata": {},
   "outputs": [
    {
     "data": {
      "text/plain": [
       "<AxesSubplot:xlabel='2018년'>"
      ]
     },
     "execution_count": 32,
     "metadata": {},
     "output_type": "execute_result"
    },
    {
     "data": {
      "image/png": "[encoded data removed]",
      "text/plain": [
       "<Figure size 432x288 with 1 Axes>"
      ]
     },
     "metadata": {
      "needs_background": "light"
     },
     "output_type": "display_data"
    }
   ],
   "source": [
    "df_2018_injury.plot()"
   ]
  },
  {
   "cell_type": "code",
   "execution_count": 33,
   "id": "acf2a2bc",
   "metadata": {},
   "outputs": [
    {
     "data": {
      "text/plain": [
       "<AxesSubplot:xlabel='2019년'>"
      ]
     },
     "execution_count": 33,
     "metadata": {},
     "output_type": "execute_result"
    },
    {
     "data": {
      "image/png": "[encoded data removed]",
      "text/plain": [
       "<Figure size 432x288 with 1 Axes>"
      ]
     },
     "metadata": {
      "needs_background": "light"
     },
     "output_type": "display_data"
    }
   ],
   "source": [
    "df_2019_injury.plot()"
   ]
  },
  {
   "cell_type": "code",
   "execution_count": 34,
   "id": "e985e04e",
   "metadata": {},
   "outputs": [
    {
     "data": {
      "text/plain": [
       "<AxesSubplot:xlabel='2020년'>"
      ]
     },
     "execution_count": 34,
     "metadata": {},
     "output_type": "execute_result"
    },
    {
     "data": {
      "image/png": "[encoded data removed]",
      "text/plain": [
       "<Figure size 432x288 with 1 Axes>"
      ]
     },
     "metadata": {
      "needs_background": "light"
     },
     "output_type": "display_data"
    }
   ],
   "source": [
    "df_2020_injury.plot()"
   ]
  },
  {
   "cell_type": "code",
   "execution_count": 35,
   "id": "e4db9dd9",
   "metadata": {},
   "outputs": [
    {
     "data": {
      "text/plain": [
       "<AxesSubplot:xlabel='2021년'>"
      ]
     },
     "execution_count": 35,
     "metadata": {},
     "output_type": "execute_result"
    },
    {
     "data": {
      "image/png": "[encoded data removed]",
      "text/plain": [
       "<Figure size 432x288 with 1 Axes>"
      ]
     },
     "metadata": {
      "needs_background": "light"
     },
     "output_type": "display_data"
    }
   ],
   "source": [
    "df_2021_injury.plot()"
   ]
  }
 ],
 "metadata": {
  "kernelspec": {
   "display_name": "Python 3",
   "language": "python",
   "name": "python3"
  },
  "language_info": {
   "codemirror_mode": {
    "name": "ipython",
    "version": 3
   },
   "file_extension": ".py",
   "mimetype": "text/x-python",
   "name": "python",
   "nbconvert_exporter": "python",
   "pygments_lexer": "ipython3",
   "version": "3.8.8"
  }
 },
 "nbformat": 4,
 "nbformat_minor": 5
}
