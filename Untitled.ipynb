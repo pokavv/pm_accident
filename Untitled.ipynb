{
 "cells": [
  {
   "cell_type": "code",
   "execution_count": 3,
   "id": "b2781a3b",
   "metadata": {},
   "outputs": [
    {
     "name": "stdout",
     "output_type": "stream",
     "text": [
      "Collecting import_ipynb\n",
      "  Downloading import_ipynb-0.1.4-py3-none-any.whl (4.1 kB)\n",
      "Requirement already satisfied: IPython in c:\\users\\admin\\anaconda3\\lib\\site-packages (from import_ipynb) (7.22.0)\n",
      "Requirement already satisfied: nbformat in c:\\users\\admin\\anaconda3\\lib\\site-packages (from import_ipynb) (5.1.3)\n",
      "Requirement already satisfied: jedi>=0.16 in c:\\users\\admin\\anaconda3\\lib\\site-packages (from IPython->import_ipynb) (0.17.2)\n",
      "Requirement already satisfied: setuptools>=18.5 in c:\\users\\admin\\anaconda3\\lib\\site-packages (from IPython->import_ipynb) (52.0.0.post20210125)\n",
      "Requirement already satisfied: colorama in c:\\users\\admin\\anaconda3\\lib\\site-packages (from IPython->import_ipynb) (0.4.4)\n",
      "Requirement already satisfied: prompt-toolkit!=3.0.0,!=3.0.1,<3.1.0,>=2.0.0 in c:\\users\\admin\\anaconda3\\lib\\site-packages (from IPython->import_ipynb) (3.0.17)\n",
      "Requirement already satisfied: pickleshare in c:\\users\\admin\\anaconda3\\lib\\site-packages (from IPython->import_ipynb) (0.7.5)\n",
      "Requirement already satisfied: backcall in c:\\users\\admin\\anaconda3\\lib\\site-packages (from IPython->import_ipynb) (0.2.0)\n",
      "Requirement already satisfied: decorator in c:\\users\\admin\\anaconda3\\lib\\site-packages (from IPython->import_ipynb) (5.0.6)\n",
      "Requirement already satisfied: traitlets>=4.2 in c:\\users\\admin\\anaconda3\\lib\\site-packages (from IPython->import_ipynb) (5.0.5)\n",
      "Requirement already satisfied: pygments in c:\\users\\admin\\anaconda3\\lib\\site-packages (from IPython->import_ipynb) (2.8.1)\n",
      "Requirement already satisfied: jupyter-core in c:\\users\\admin\\anaconda3\\lib\\site-packages (from nbformat->import_ipynb) (4.7.1)\n",
      "Requirement already satisfied: ipython-genutils in c:\\users\\admin\\anaconda3\\lib\\site-packages (from nbformat->import_ipynb) (0.2.0)\n",
      "Requirement already satisfied: jsonschema!=2.5.0,>=2.4 in c:\\users\\admin\\anaconda3\\lib\\site-packages (from nbformat->import_ipynb) (3.2.0)\n",
      "Requirement already satisfied: parso<0.8.0,>=0.7.0 in c:\\users\\admin\\anaconda3\\lib\\site-packages (from jedi>=0.16->IPython->import_ipynb) (0.7.0)\n",
      "Requirement already satisfied: attrs>=17.4.0 in c:\\users\\admin\\anaconda3\\lib\\site-packages (from jsonschema!=2.5.0,>=2.4->nbformat->import_ipynb) (20.3.0)\n",
      "Requirement already satisfied: pyrsistent>=0.14.0 in c:\\users\\admin\\anaconda3\\lib\\site-packages (from jsonschema!=2.5.0,>=2.4->nbformat->import_ipynb) (0.17.3)\n",
      "Requirement already satisfied: six>=1.11.0 in c:\\users\\admin\\anaconda3\\lib\\site-packages (from jsonschema!=2.5.0,>=2.4->nbformat->import_ipynb) (1.15.0)\n",
      "Requirement already satisfied: wcwidth in c:\\users\\admin\\anaconda3\\lib\\site-packages (from prompt-toolkit!=3.0.0,!=3.0.1,<3.1.0,>=2.0.0->IPython->import_ipynb) (0.2.5)\n",
      "Requirement already satisfied: pywin32>=1.0 in c:\\users\\admin\\anaconda3\\lib\\site-packages (from jupyter-core->nbformat->import_ipynb) (227)\n",
      "Installing collected packages: import_ipynb\n",
      "Successfully installed import_ipynb-0.1.4\n",
      "Note: you may need to restart the kernel to use updated packages.\n"
     ]
    },
    {
     "name": "stderr",
     "output_type": "stream",
     "text": [
      "\n",
      "[notice] A new release of pip available: 22.2.2 -> 22.3.1\n",
      "[notice] To update, run: python.exe -m pip install --upgrade pip\n"
     ]
    }
   ],
   "source": [
    "# pip install import_ipynb"
   ]
  },
  {
   "cell_type": "code",
   "execution_count": 1,
   "id": "ae236c6f",
   "metadata": {},
   "outputs": [],
   "source": [
    "from matplotlib import font_manager, rc\n",
    "import pandas as pd\n",
    "import numpy as np\n",
    "import matplotlib.pyplot as plt\n",
    "import seaborn as sns\n",
    "\n",
    "font_name = font_manager.FontProperties(fname='c:/windows/fonts/malgun.ttf').get_name()\n",
    "rc('font', family=font_name)"
   ]
  }
 ],
 "metadata": {
  "kernelspec": {
   "display_name": "Python 3",
   "language": "python",
   "name": "python3"
  },
  "language_info": {
   "codemirror_mode": {
    "name": "ipython",
    "version": 3
   },
   "file_extension": ".py",
   "mimetype": "text/x-python",
   "name": "python",
   "nbconvert_exporter": "python",
   "pygments_lexer": "ipython3",
   "version": "3.8.8"
  }
 },
 "nbformat": 4,
 "nbformat_minor": 5
}
