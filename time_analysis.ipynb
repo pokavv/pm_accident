{
 "cells": [
  {
   "cell_type": "code",
   "execution_count": 1,
   "id": "662307fa",
   "metadata": {},
   "outputs": [],
   "source": [
    "from matplotlib import font_manager, rc\n",
    "import pandas as pd\n",
    "import numpy as np\n",
    "import matplotlib.pyplot as plt\n",
    "import seaborn as sns\n",
    "\n",
    "font_name = font_manager.FontProperties(fname='c:/windows/fonts/malgun.ttf').get_name()\n",
    "rc('font', family=font_name)"
   ]
  },
  {
   "cell_type": "code",
   "execution_count": 2,
   "id": "75d88d4b",
   "metadata": {},
   "outputs": [],
   "source": [
    "time_2017 = pd.read_csv('data_for_analysis/time/time_2017.csv')\n",
    "time_2018 = pd.read_csv('data_for_analysis/time/time_2018.csv')\n",
    "time_2019 = pd.read_csv('data_for_analysis/time/time_2019.csv')\n",
    "time_2020 = pd.read_csv('data_for_analysis/time/time_2020.csv')\n",
    "time_2021 = pd.read_csv('data_for_analysis/time/time_2021.csv')"
   ]
  },
  {
   "cell_type": "code",
   "execution_count": 3,
   "id": "d30fed27",
   "metadata": {},
   "outputs": [],
   "source": [
    "time_2017 = time_2017.rename(columns={'Unnamed: 0': '시간별'})\n",
    "time_2018 = time_2018.rename(columns={'Unnamed: 0': '시간별'})\n",
    "time_2019 = time_2019.rename(columns={'Unnamed: 0': '시간별'})\n",
    "time_2020 = time_2020.rename(columns={'Unnamed: 0': '시간별'})\n",
    "time_2021 = time_2021.rename(columns={'Unnamed: 0': '시간별'})"
   ]
  },
  {
   "cell_type": "code",
   "execution_count": 4,
   "id": "18fe805c",
   "metadata": {},
   "outputs": [],
   "source": [
    "time_2017 = time_2017.set_index(['시간별'])\n",
    "time_2018 = time_2018.set_index(['시간별'])\n",
    "time_2019 = time_2019.set_index(['시간별'])\n",
    "time_2020 = time_2020.set_index(['시간별'])\n",
    "time_2021 = time_2021.set_index(['시간별'])"
   ]
  },
  {
   "cell_type": "markdown",
   "id": "e4071fe6",
   "metadata": {},
   "source": [
    "## merge time data"
   ]
  },
  {
   "cell_type": "code",
   "execution_count": 5,
   "id": "6580540b",
   "metadata": {},
   "outputs": [
    {
     "data": {
      "text/html": [
       "<div>\n",
       "<style scoped>\n",
       "    .dataframe tbody tr th:only-of-type {\n",
       "        vertical-align: middle;\n",
       "    }\n",
       "\n",
       "    .dataframe tbody tr th {\n",
       "        vertical-align: top;\n",
       "    }\n",
       "\n",
       "    .dataframe thead th {\n",
       "        text-align: right;\n",
       "    }\n",
       "</style>\n",
       "<table border=\"1\" class=\"dataframe\">\n",
       "  <thead>\n",
       "    <tr style=\"text-align: right;\">\n",
       "      <th></th>\n",
       "      <th>사고건수</th>\n",
       "      <th>사망자수</th>\n",
       "      <th>부상자수</th>\n",
       "    </tr>\n",
       "    <tr>\n",
       "      <th>시간별</th>\n",
       "      <th></th>\n",
       "      <th></th>\n",
       "      <th></th>\n",
       "    </tr>\n",
       "  </thead>\n",
       "  <tbody>\n",
       "    <tr>\n",
       "      <th>0시~2시</th>\n",
       "      <td>6</td>\n",
       "      <td>1</td>\n",
       "      <td>5</td>\n",
       "    </tr>\n",
       "    <tr>\n",
       "      <th>2시~4시</th>\n",
       "      <td>8</td>\n",
       "      <td>1</td>\n",
       "      <td>7</td>\n",
       "    </tr>\n",
       "    <tr>\n",
       "      <th>4시~6시</th>\n",
       "      <td>1</td>\n",
       "      <td>0</td>\n",
       "      <td>1</td>\n",
       "    </tr>\n",
       "    <tr>\n",
       "      <th>6시~8시</th>\n",
       "      <td>7</td>\n",
       "      <td>0</td>\n",
       "      <td>7</td>\n",
       "    </tr>\n",
       "    <tr>\n",
       "      <th>8시~10시</th>\n",
       "      <td>20</td>\n",
       "      <td>0</td>\n",
       "      <td>20</td>\n",
       "    </tr>\n",
       "    <tr>\n",
       "      <th>10시~12시</th>\n",
       "      <td>10</td>\n",
       "      <td>0</td>\n",
       "      <td>11</td>\n",
       "    </tr>\n",
       "    <tr>\n",
       "      <th>12시~14시</th>\n",
       "      <td>6</td>\n",
       "      <td>0</td>\n",
       "      <td>6</td>\n",
       "    </tr>\n",
       "    <tr>\n",
       "      <th>14시~16시</th>\n",
       "      <td>10</td>\n",
       "      <td>1</td>\n",
       "      <td>9</td>\n",
       "    </tr>\n",
       "    <tr>\n",
       "      <th>16시~18시</th>\n",
       "      <td>8</td>\n",
       "      <td>0</td>\n",
       "      <td>11</td>\n",
       "    </tr>\n",
       "    <tr>\n",
       "      <th>18시~20시</th>\n",
       "      <td>15</td>\n",
       "      <td>0</td>\n",
       "      <td>18</td>\n",
       "    </tr>\n",
       "    <tr>\n",
       "      <th>20시~22시</th>\n",
       "      <td>13</td>\n",
       "      <td>1</td>\n",
       "      <td>15</td>\n",
       "    </tr>\n",
       "    <tr>\n",
       "      <th>22시~24시</th>\n",
       "      <td>13</td>\n",
       "      <td>0</td>\n",
       "      <td>14</td>\n",
       "    </tr>\n",
       "    <tr>\n",
       "      <th>0시~2시</th>\n",
       "      <td>15</td>\n",
       "      <td>0</td>\n",
       "      <td>17</td>\n",
       "    </tr>\n",
       "    <tr>\n",
       "      <th>2시~4시</th>\n",
       "      <td>4</td>\n",
       "      <td>0</td>\n",
       "      <td>4</td>\n",
       "    </tr>\n",
       "    <tr>\n",
       "      <th>4시~6시</th>\n",
       "      <td>8</td>\n",
       "      <td>0</td>\n",
       "      <td>8</td>\n",
       "    </tr>\n",
       "    <tr>\n",
       "      <th>6시~8시</th>\n",
       "      <td>13</td>\n",
       "      <td>0</td>\n",
       "      <td>13</td>\n",
       "    </tr>\n",
       "    <tr>\n",
       "      <th>8시~10시</th>\n",
       "      <td>35</td>\n",
       "      <td>1</td>\n",
       "      <td>34</td>\n",
       "    </tr>\n",
       "    <tr>\n",
       "      <th>10시~12시</th>\n",
       "      <td>12</td>\n",
       "      <td>0</td>\n",
       "      <td>14</td>\n",
       "    </tr>\n",
       "    <tr>\n",
       "      <th>12시~14시</th>\n",
       "      <td>14</td>\n",
       "      <td>0</td>\n",
       "      <td>15</td>\n",
       "    </tr>\n",
       "    <tr>\n",
       "      <th>14시~16시</th>\n",
       "      <td>21</td>\n",
       "      <td>1</td>\n",
       "      <td>23</td>\n",
       "    </tr>\n",
       "    <tr>\n",
       "      <th>16시~18시</th>\n",
       "      <td>23</td>\n",
       "      <td>0</td>\n",
       "      <td>25</td>\n",
       "    </tr>\n",
       "    <tr>\n",
       "      <th>18시~20시</th>\n",
       "      <td>27</td>\n",
       "      <td>1</td>\n",
       "      <td>27</td>\n",
       "    </tr>\n",
       "    <tr>\n",
       "      <th>20시~22시</th>\n",
       "      <td>29</td>\n",
       "      <td>0</td>\n",
       "      <td>33</td>\n",
       "    </tr>\n",
       "    <tr>\n",
       "      <th>22시~24시</th>\n",
       "      <td>24</td>\n",
       "      <td>1</td>\n",
       "      <td>25</td>\n",
       "    </tr>\n",
       "    <tr>\n",
       "      <th>0시~2시</th>\n",
       "      <td>23</td>\n",
       "      <td>0</td>\n",
       "      <td>24</td>\n",
       "    </tr>\n",
       "    <tr>\n",
       "      <th>2시~4시</th>\n",
       "      <td>14</td>\n",
       "      <td>0</td>\n",
       "      <td>14</td>\n",
       "    </tr>\n",
       "    <tr>\n",
       "      <th>4시~6시</th>\n",
       "      <td>12</td>\n",
       "      <td>0</td>\n",
       "      <td>14</td>\n",
       "    </tr>\n",
       "    <tr>\n",
       "      <th>6시~8시</th>\n",
       "      <td>29</td>\n",
       "      <td>2</td>\n",
       "      <td>27</td>\n",
       "    </tr>\n",
       "    <tr>\n",
       "      <th>8시~10시</th>\n",
       "      <td>56</td>\n",
       "      <td>1</td>\n",
       "      <td>59</td>\n",
       "    </tr>\n",
       "    <tr>\n",
       "      <th>10시~12시</th>\n",
       "      <td>40</td>\n",
       "      <td>0</td>\n",
       "      <td>41</td>\n",
       "    </tr>\n",
       "    <tr>\n",
       "      <th>12시~14시</th>\n",
       "      <td>31</td>\n",
       "      <td>0</td>\n",
       "      <td>32</td>\n",
       "    </tr>\n",
       "    <tr>\n",
       "      <th>14시~16시</th>\n",
       "      <td>44</td>\n",
       "      <td>1</td>\n",
       "      <td>44</td>\n",
       "    </tr>\n",
       "    <tr>\n",
       "      <th>16시~18시</th>\n",
       "      <td>53</td>\n",
       "      <td>0</td>\n",
       "      <td>61</td>\n",
       "    </tr>\n",
       "    <tr>\n",
       "      <th>18시~20시</th>\n",
       "      <td>59</td>\n",
       "      <td>1</td>\n",
       "      <td>63</td>\n",
       "    </tr>\n",
       "    <tr>\n",
       "      <th>20시~22시</th>\n",
       "      <td>47</td>\n",
       "      <td>1</td>\n",
       "      <td>48</td>\n",
       "    </tr>\n",
       "    <tr>\n",
       "      <th>22시~24시</th>\n",
       "      <td>39</td>\n",
       "      <td>2</td>\n",
       "      <td>46</td>\n",
       "    </tr>\n",
       "    <tr>\n",
       "      <th>0시~2시</th>\n",
       "      <td>72</td>\n",
       "      <td>0</td>\n",
       "      <td>83</td>\n",
       "    </tr>\n",
       "    <tr>\n",
       "      <th>2시~4시</th>\n",
       "      <td>36</td>\n",
       "      <td>0</td>\n",
       "      <td>39</td>\n",
       "    </tr>\n",
       "    <tr>\n",
       "      <th>4시~6시</th>\n",
       "      <td>18</td>\n",
       "      <td>0</td>\n",
       "      <td>20</td>\n",
       "    </tr>\n",
       "    <tr>\n",
       "      <th>6시~8시</th>\n",
       "      <td>41</td>\n",
       "      <td>1</td>\n",
       "      <td>44</td>\n",
       "    </tr>\n",
       "    <tr>\n",
       "      <th>8시~10시</th>\n",
       "      <td>81</td>\n",
       "      <td>0</td>\n",
       "      <td>92</td>\n",
       "    </tr>\n",
       "    <tr>\n",
       "      <th>10시~12시</th>\n",
       "      <td>48</td>\n",
       "      <td>1</td>\n",
       "      <td>51</td>\n",
       "    </tr>\n",
       "    <tr>\n",
       "      <th>12시~14시</th>\n",
       "      <td>72</td>\n",
       "      <td>1</td>\n",
       "      <td>75</td>\n",
       "    </tr>\n",
       "    <tr>\n",
       "      <th>14시~16시</th>\n",
       "      <td>77</td>\n",
       "      <td>3</td>\n",
       "      <td>80</td>\n",
       "    </tr>\n",
       "    <tr>\n",
       "      <th>16시~18시</th>\n",
       "      <td>124</td>\n",
       "      <td>1</td>\n",
       "      <td>145</td>\n",
       "    </tr>\n",
       "    <tr>\n",
       "      <th>18시~20시</th>\n",
       "      <td>121</td>\n",
       "      <td>0</td>\n",
       "      <td>134</td>\n",
       "    </tr>\n",
       "    <tr>\n",
       "      <th>20시~22시</th>\n",
       "      <td>114</td>\n",
       "      <td>3</td>\n",
       "      <td>120</td>\n",
       "    </tr>\n",
       "    <tr>\n",
       "      <th>22시~24시</th>\n",
       "      <td>93</td>\n",
       "      <td>0</td>\n",
       "      <td>102</td>\n",
       "    </tr>\n",
       "    <tr>\n",
       "      <th>0시~2시</th>\n",
       "      <td>91</td>\n",
       "      <td>2</td>\n",
       "      <td>104</td>\n",
       "    </tr>\n",
       "    <tr>\n",
       "      <th>2시~4시</th>\n",
       "      <td>47</td>\n",
       "      <td>0</td>\n",
       "      <td>47</td>\n",
       "    </tr>\n",
       "    <tr>\n",
       "      <th>4시~6시</th>\n",
       "      <td>28</td>\n",
       "      <td>2</td>\n",
       "      <td>30</td>\n",
       "    </tr>\n",
       "    <tr>\n",
       "      <th>6시~8시</th>\n",
       "      <td>52</td>\n",
       "      <td>1</td>\n",
       "      <td>57</td>\n",
       "    </tr>\n",
       "    <tr>\n",
       "      <th>8시~10시</th>\n",
       "      <td>135</td>\n",
       "      <td>2</td>\n",
       "      <td>141</td>\n",
       "    </tr>\n",
       "    <tr>\n",
       "      <th>10시~12시</th>\n",
       "      <td>122</td>\n",
       "      <td>1</td>\n",
       "      <td>136</td>\n",
       "    </tr>\n",
       "    <tr>\n",
       "      <th>12시~14시</th>\n",
       "      <td>142</td>\n",
       "      <td>0</td>\n",
       "      <td>160</td>\n",
       "    </tr>\n",
       "    <tr>\n",
       "      <th>14시~16시</th>\n",
       "      <td>185</td>\n",
       "      <td>3</td>\n",
       "      <td>195</td>\n",
       "    </tr>\n",
       "    <tr>\n",
       "      <th>16시~18시</th>\n",
       "      <td>250</td>\n",
       "      <td>0</td>\n",
       "      <td>275</td>\n",
       "    </tr>\n",
       "    <tr>\n",
       "      <th>18시~20시</th>\n",
       "      <td>247</td>\n",
       "      <td>0</td>\n",
       "      <td>279</td>\n",
       "    </tr>\n",
       "    <tr>\n",
       "      <th>20시~22시</th>\n",
       "      <td>204</td>\n",
       "      <td>5</td>\n",
       "      <td>217</td>\n",
       "    </tr>\n",
       "    <tr>\n",
       "      <th>22시~24시</th>\n",
       "      <td>232</td>\n",
       "      <td>3</td>\n",
       "      <td>260</td>\n",
       "    </tr>\n",
       "  </tbody>\n",
       "</table>\n",
       "</div>"
      ],
      "text/plain": [
       "         사고건수  사망자수  부상자수\n",
       "시간별                      \n",
       "0시~2시       6     1     5\n",
       "2시~4시       8     1     7\n",
       "4시~6시       1     0     1\n",
       "6시~8시       7     0     7\n",
       "8시~10시     20     0    20\n",
       "10시~12시    10     0    11\n",
       "12시~14시     6     0     6\n",
       "14시~16시    10     1     9\n",
       "16시~18시     8     0    11\n",
       "18시~20시    15     0    18\n",
       "20시~22시    13     1    15\n",
       "22시~24시    13     0    14\n",
       "0시~2시      15     0    17\n",
       "2시~4시       4     0     4\n",
       "4시~6시       8     0     8\n",
       "6시~8시      13     0    13\n",
       "8시~10시     35     1    34\n",
       "10시~12시    12     0    14\n",
       "12시~14시    14     0    15\n",
       "14시~16시    21     1    23\n",
       "16시~18시    23     0    25\n",
       "18시~20시    27     1    27\n",
       "20시~22시    29     0    33\n",
       "22시~24시    24     1    25\n",
       "0시~2시      23     0    24\n",
       "2시~4시      14     0    14\n",
       "4시~6시      12     0    14\n",
       "6시~8시      29     2    27\n",
       "8시~10시     56     1    59\n",
       "10시~12시    40     0    41\n",
       "12시~14시    31     0    32\n",
       "14시~16시    44     1    44\n",
       "16시~18시    53     0    61\n",
       "18시~20시    59     1    63\n",
       "20시~22시    47     1    48\n",
       "22시~24시    39     2    46\n",
       "0시~2시      72     0    83\n",
       "2시~4시      36     0    39\n",
       "4시~6시      18     0    20\n",
       "6시~8시      41     1    44\n",
       "8시~10시     81     0    92\n",
       "10시~12시    48     1    51\n",
       "12시~14시    72     1    75\n",
       "14시~16시    77     3    80\n",
       "16시~18시   124     1   145\n",
       "18시~20시   121     0   134\n",
       "20시~22시   114     3   120\n",
       "22시~24시    93     0   102\n",
       "0시~2시      91     2   104\n",
       "2시~4시      47     0    47\n",
       "4시~6시      28     2    30\n",
       "6시~8시      52     1    57\n",
       "8시~10시    135     2   141\n",
       "10시~12시   122     1   136\n",
       "12시~14시   142     0   160\n",
       "14시~16시   185     3   195\n",
       "16시~18시   250     0   275\n",
       "18시~20시   247     0   279\n",
       "20시~22시   204     5   217\n",
       "22시~24시   232     3   260"
      ]
     },
     "execution_count": 5,
     "metadata": {},
     "output_type": "execute_result"
    }
   ],
   "source": [
    "time_list = [time_2017, time_2018, time_2019, time_2020, time_2021]\n",
    "time_concat = pd.concat(time_list)\n",
    "time_concat"
   ]
  },
  {
   "cell_type": "code",
   "execution_count": 6,
   "id": "82643f17",
   "metadata": {},
   "outputs": [],
   "source": [
    "time_accident = time_concat['사고건수']\n",
    "time_death = time_concat['사망자수']\n",
    "time_injury = time_concat['부상자수']"
   ]
  },
  {
   "cell_type": "code",
   "execution_count": 7,
   "id": "a4bab9de",
   "metadata": {},
   "outputs": [
    {
     "data": {
      "text/plain": [
       "시간별\n",
       "0시~2시        6\n",
       "2시~4시        8\n",
       "4시~6시        1\n",
       "6시~8시        7\n",
       "8시~10시      20\n",
       "10시~12시     10\n",
       "12시~14시      6\n",
       "14시~16시     10\n",
       "16시~18시      8\n",
       "18시~20시     15\n",
       "20시~22시     13\n",
       "22시~24시     13\n",
       "0시~2시       15\n",
       "2시~4시        4\n",
       "4시~6시        8\n",
       "6시~8시       13\n",
       "8시~10시      35\n",
       "10시~12시     12\n",
       "12시~14시     14\n",
       "14시~16시     21\n",
       "16시~18시     23\n",
       "18시~20시     27\n",
       "20시~22시     29\n",
       "22시~24시     24\n",
       "0시~2시       23\n",
       "2시~4시       14\n",
       "4시~6시       12\n",
       "6시~8시       29\n",
       "8시~10시      56\n",
       "10시~12시     40\n",
       "12시~14시     31\n",
       "14시~16시     44\n",
       "16시~18시     53\n",
       "18시~20시     59\n",
       "20시~22시     47\n",
       "22시~24시     39\n",
       "0시~2시       72\n",
       "2시~4시       36\n",
       "4시~6시       18\n",
       "6시~8시       41\n",
       "8시~10시      81\n",
       "10시~12시     48\n",
       "12시~14시     72\n",
       "14시~16시     77\n",
       "16시~18시    124\n",
       "18시~20시    121\n",
       "20시~22시    114\n",
       "22시~24시     93\n",
       "0시~2시       91\n",
       "2시~4시       47\n",
       "4시~6시       28\n",
       "6시~8시       52\n",
       "8시~10시     135\n",
       "10시~12시    122\n",
       "12시~14시    142\n",
       "14시~16시    185\n",
       "16시~18시    250\n",
       "18시~20시    247\n",
       "20시~22시    204\n",
       "22시~24시    232\n",
       "Name: 사고건수, dtype: int64"
      ]
     },
     "execution_count": 7,
     "metadata": {},
     "output_type": "execute_result"
    }
   ],
   "source": [
    "time_accident"
   ]
  },
  {
   "cell_type": "code",
   "execution_count": 8,
   "id": "71b0b9ce",
   "metadata": {},
   "outputs": [
    {
     "data": {
      "text/plain": [
       "3421"
      ]
     },
     "execution_count": 8,
     "metadata": {},
     "output_type": "execute_result"
    }
   ],
   "source": [
    "time_accident.sum()"
   ]
  },
  {
   "cell_type": "code",
   "execution_count": 9,
   "id": "07494dd7",
   "metadata": {},
   "outputs": [
    {
     "data": {
      "text/plain": [
       "57.016666666666666"
      ]
     },
     "execution_count": 9,
     "metadata": {},
     "output_type": "execute_result"
    }
   ],
   "source": [
    "time_accident.mean()"
   ]
  },
  {
   "cell_type": "code",
   "execution_count": 10,
   "id": "33263d7d",
   "metadata": {},
   "outputs": [
    {
     "data": {
      "text/plain": [
       "count     60.000000\n",
       "mean      57.016667\n",
       "std       62.629795\n",
       "min        1.000000\n",
       "25%       13.750000\n",
       "50%       33.000000\n",
       "75%       73.250000\n",
       "max      250.000000\n",
       "Name: 사고건수, dtype: float64"
      ]
     },
     "execution_count": 10,
     "metadata": {},
     "output_type": "execute_result"
    }
   ],
   "source": [
    "time_accident.describe()"
   ]
  },
  {
   "cell_type": "code",
   "execution_count": 11,
   "id": "fd521b45",
   "metadata": {},
   "outputs": [
    {
     "data": {
      "text/plain": [
       "시간별\n",
       "0시~2시      1\n",
       "2시~4시      1\n",
       "4시~6시      0\n",
       "6시~8시      0\n",
       "8시~10시     0\n",
       "10시~12시    0\n",
       "12시~14시    0\n",
       "14시~16시    1\n",
       "16시~18시    0\n",
       "18시~20시    0\n",
       "20시~22시    1\n",
       "22시~24시    0\n",
       "0시~2시      0\n",
       "2시~4시      0\n",
       "4시~6시      0\n",
       "6시~8시      0\n",
       "8시~10시     1\n",
       "10시~12시    0\n",
       "12시~14시    0\n",
       "14시~16시    1\n",
       "16시~18시    0\n",
       "18시~20시    1\n",
       "20시~22시    0\n",
       "22시~24시    1\n",
       "0시~2시      0\n",
       "2시~4시      0\n",
       "4시~6시      0\n",
       "6시~8시      2\n",
       "8시~10시     1\n",
       "10시~12시    0\n",
       "12시~14시    0\n",
       "14시~16시    1\n",
       "16시~18시    0\n",
       "18시~20시    1\n",
       "20시~22시    1\n",
       "22시~24시    2\n",
       "0시~2시      0\n",
       "2시~4시      0\n",
       "4시~6시      0\n",
       "6시~8시      1\n",
       "8시~10시     0\n",
       "10시~12시    1\n",
       "12시~14시    1\n",
       "14시~16시    3\n",
       "16시~18시    1\n",
       "18시~20시    0\n",
       "20시~22시    3\n",
       "22시~24시    0\n",
       "0시~2시      2\n",
       "2시~4시      0\n",
       "4시~6시      2\n",
       "6시~8시      1\n",
       "8시~10시     2\n",
       "10시~12시    1\n",
       "12시~14시    0\n",
       "14시~16시    3\n",
       "16시~18시    0\n",
       "18시~20시    0\n",
       "20시~22시    5\n",
       "22시~24시    3\n",
       "Name: 사망자수, dtype: int64"
      ]
     },
     "execution_count": 11,
     "metadata": {},
     "output_type": "execute_result"
    }
   ],
   "source": [
    "time_death"
   ]
  },
  {
   "cell_type": "code",
   "execution_count": 12,
   "id": "34df3e7b",
   "metadata": {},
   "outputs": [
    {
     "data": {
      "text/plain": [
       "45"
      ]
     },
     "execution_count": 12,
     "metadata": {},
     "output_type": "execute_result"
    }
   ],
   "source": [
    "time_death.sum()"
   ]
  },
  {
   "cell_type": "code",
   "execution_count": 13,
   "id": "01416d8a",
   "metadata": {},
   "outputs": [
    {
     "data": {
      "text/plain": [
       "0.75"
      ]
     },
     "execution_count": 13,
     "metadata": {},
     "output_type": "execute_result"
    }
   ],
   "source": [
    "time_death.mean()"
   ]
  },
  {
   "cell_type": "code",
   "execution_count": 14,
   "id": "ce85a1f9",
   "metadata": {},
   "outputs": [
    {
     "data": {
      "text/plain": [
       "count    60.000000\n",
       "mean      0.750000\n",
       "std       1.051633\n",
       "min       0.000000\n",
       "25%       0.000000\n",
       "50%       0.000000\n",
       "75%       1.000000\n",
       "max       5.000000\n",
       "Name: 사망자수, dtype: float64"
      ]
     },
     "execution_count": 14,
     "metadata": {},
     "output_type": "execute_result"
    }
   ],
   "source": [
    "time_death.describe()"
   ]
  },
  {
   "cell_type": "code",
   "execution_count": 15,
   "id": "e122c9a9",
   "metadata": {},
   "outputs": [
    {
     "data": {
      "text/plain": [
       "시간별\n",
       "0시~2시        5\n",
       "2시~4시        7\n",
       "4시~6시        1\n",
       "6시~8시        7\n",
       "8시~10시      20\n",
       "10시~12시     11\n",
       "12시~14시      6\n",
       "14시~16시      9\n",
       "16시~18시     11\n",
       "18시~20시     18\n",
       "20시~22시     15\n",
       "22시~24시     14\n",
       "0시~2시       17\n",
       "2시~4시        4\n",
       "4시~6시        8\n",
       "6시~8시       13\n",
       "8시~10시      34\n",
       "10시~12시     14\n",
       "12시~14시     15\n",
       "14시~16시     23\n",
       "16시~18시     25\n",
       "18시~20시     27\n",
       "20시~22시     33\n",
       "22시~24시     25\n",
       "0시~2시       24\n",
       "2시~4시       14\n",
       "4시~6시       14\n",
       "6시~8시       27\n",
       "8시~10시      59\n",
       "10시~12시     41\n",
       "12시~14시     32\n",
       "14시~16시     44\n",
       "16시~18시     61\n",
       "18시~20시     63\n",
       "20시~22시     48\n",
       "22시~24시     46\n",
       "0시~2시       83\n",
       "2시~4시       39\n",
       "4시~6시       20\n",
       "6시~8시       44\n",
       "8시~10시      92\n",
       "10시~12시     51\n",
       "12시~14시     75\n",
       "14시~16시     80\n",
       "16시~18시    145\n",
       "18시~20시    134\n",
       "20시~22시    120\n",
       "22시~24시    102\n",
       "0시~2시      104\n",
       "2시~4시       47\n",
       "4시~6시       30\n",
       "6시~8시       57\n",
       "8시~10시     141\n",
       "10시~12시    136\n",
       "12시~14시    160\n",
       "14시~16시    195\n",
       "16시~18시    275\n",
       "18시~20시    279\n",
       "20시~22시    217\n",
       "22시~24시    260\n",
       "Name: 부상자수, dtype: int64"
      ]
     },
     "execution_count": 15,
     "metadata": {},
     "output_type": "execute_result"
    }
   ],
   "source": [
    "time_injury "
   ]
  },
  {
   "cell_type": "code",
   "execution_count": 16,
   "id": "87d3bdd3",
   "metadata": {},
   "outputs": [
    {
     "data": {
      "text/plain": [
       "3721"
      ]
     },
     "execution_count": 16,
     "metadata": {},
     "output_type": "execute_result"
    }
   ],
   "source": [
    "time_injury.sum()"
   ]
  },
  {
   "cell_type": "code",
   "execution_count": 17,
   "id": "1721d1b5",
   "metadata": {},
   "outputs": [
    {
     "data": {
      "text/plain": [
       "62.016666666666666"
      ]
     },
     "execution_count": 17,
     "metadata": {},
     "output_type": "execute_result"
    }
   ],
   "source": [
    "time_injury.mean()"
   ]
  },
  {
   "cell_type": "code",
   "execution_count": 18,
   "id": "971783b1",
   "metadata": {},
   "outputs": [
    {
     "data": {
      "text/plain": [
       "count     60.000000\n",
       "mean      62.016667\n",
       "std       69.313459\n",
       "min        1.000000\n",
       "25%       14.750000\n",
       "50%       33.500000\n",
       "75%       80.750000\n",
       "max      279.000000\n",
       "Name: 부상자수, dtype: float64"
      ]
     },
     "execution_count": 18,
     "metadata": {},
     "output_type": "execute_result"
    }
   ],
   "source": [
    "time_injury.describe()"
   ]
  },
  {
   "cell_type": "markdown",
   "id": "cad8bdb0",
   "metadata": {},
   "source": [
    "## 시간별 분석"
   ]
  },
  {
   "cell_type": "code",
   "execution_count": 19,
   "id": "e7c71268",
   "metadata": {},
   "outputs": [
    {
     "data": {
      "text/html": [
       "<div>\n",
       "<style scoped>\n",
       "    .dataframe tbody tr th:only-of-type {\n",
       "        vertical-align: middle;\n",
       "    }\n",
       "\n",
       "    .dataframe tbody tr th {\n",
       "        vertical-align: top;\n",
       "    }\n",
       "\n",
       "    .dataframe thead th {\n",
       "        text-align: right;\n",
       "    }\n",
       "</style>\n",
       "<table border=\"1\" class=\"dataframe\">\n",
       "  <thead>\n",
       "    <tr style=\"text-align: right;\">\n",
       "      <th></th>\n",
       "      <th>사고건수</th>\n",
       "      <th>사망자수</th>\n",
       "      <th>부상자수</th>\n",
       "    </tr>\n",
       "    <tr>\n",
       "      <th>시간별</th>\n",
       "      <th></th>\n",
       "      <th></th>\n",
       "      <th></th>\n",
       "    </tr>\n",
       "  </thead>\n",
       "  <tbody>\n",
       "    <tr>\n",
       "      <th>0시~2시</th>\n",
       "      <td>6</td>\n",
       "      <td>1</td>\n",
       "      <td>5</td>\n",
       "    </tr>\n",
       "    <tr>\n",
       "      <th>2시~4시</th>\n",
       "      <td>8</td>\n",
       "      <td>1</td>\n",
       "      <td>7</td>\n",
       "    </tr>\n",
       "    <tr>\n",
       "      <th>4시~6시</th>\n",
       "      <td>1</td>\n",
       "      <td>0</td>\n",
       "      <td>1</td>\n",
       "    </tr>\n",
       "    <tr>\n",
       "      <th>6시~8시</th>\n",
       "      <td>7</td>\n",
       "      <td>0</td>\n",
       "      <td>7</td>\n",
       "    </tr>\n",
       "    <tr>\n",
       "      <th>8시~10시</th>\n",
       "      <td>20</td>\n",
       "      <td>0</td>\n",
       "      <td>20</td>\n",
       "    </tr>\n",
       "    <tr>\n",
       "      <th>10시~12시</th>\n",
       "      <td>10</td>\n",
       "      <td>0</td>\n",
       "      <td>11</td>\n",
       "    </tr>\n",
       "    <tr>\n",
       "      <th>12시~14시</th>\n",
       "      <td>6</td>\n",
       "      <td>0</td>\n",
       "      <td>6</td>\n",
       "    </tr>\n",
       "    <tr>\n",
       "      <th>14시~16시</th>\n",
       "      <td>10</td>\n",
       "      <td>1</td>\n",
       "      <td>9</td>\n",
       "    </tr>\n",
       "    <tr>\n",
       "      <th>16시~18시</th>\n",
       "      <td>8</td>\n",
       "      <td>0</td>\n",
       "      <td>11</td>\n",
       "    </tr>\n",
       "    <tr>\n",
       "      <th>18시~20시</th>\n",
       "      <td>15</td>\n",
       "      <td>0</td>\n",
       "      <td>18</td>\n",
       "    </tr>\n",
       "    <tr>\n",
       "      <th>20시~22시</th>\n",
       "      <td>13</td>\n",
       "      <td>1</td>\n",
       "      <td>15</td>\n",
       "    </tr>\n",
       "    <tr>\n",
       "      <th>22시~24시</th>\n",
       "      <td>13</td>\n",
       "      <td>0</td>\n",
       "      <td>14</td>\n",
       "    </tr>\n",
       "  </tbody>\n",
       "</table>\n",
       "</div>"
      ],
      "text/plain": [
       "         사고건수  사망자수  부상자수\n",
       "시간별                      \n",
       "0시~2시       6     1     5\n",
       "2시~4시       8     1     7\n",
       "4시~6시       1     0     1\n",
       "6시~8시       7     0     7\n",
       "8시~10시     20     0    20\n",
       "10시~12시    10     0    11\n",
       "12시~14시     6     0     6\n",
       "14시~16시    10     1     9\n",
       "16시~18시     8     0    11\n",
       "18시~20시    15     0    18\n",
       "20시~22시    13     1    15\n",
       "22시~24시    13     0    14"
      ]
     },
     "execution_count": 19,
     "metadata": {},
     "output_type": "execute_result"
    }
   ],
   "source": [
    "time_2017"
   ]
  },
  {
   "cell_type": "code",
   "execution_count": 20,
   "id": "31e94fb8",
   "metadata": {},
   "outputs": [
    {
     "data": {
      "text/plain": [
       "사고건수    117\n",
       "사망자수      4\n",
       "부상자수    124\n",
       "dtype: int64"
      ]
     },
     "execution_count": 20,
     "metadata": {},
     "output_type": "execute_result"
    }
   ],
   "source": [
    "time_2017.sum()"
   ]
  },
  {
   "cell_type": "code",
   "execution_count": 21,
   "id": "7a3018d2",
   "metadata": {},
   "outputs": [
    {
     "data": {
      "text/plain": [
       "사고건수     9.750000\n",
       "사망자수     0.333333\n",
       "부상자수    10.333333\n",
       "dtype: float64"
      ]
     },
     "execution_count": 21,
     "metadata": {},
     "output_type": "execute_result"
    }
   ],
   "source": [
    "time_2017.mean()"
   ]
  },
  {
   "cell_type": "code",
   "execution_count": 22,
   "id": "63886f88",
   "metadata": {},
   "outputs": [
    {
     "data": {
      "text/html": [
       "<div>\n",
       "<style scoped>\n",
       "    .dataframe tbody tr th:only-of-type {\n",
       "        vertical-align: middle;\n",
       "    }\n",
       "\n",
       "    .dataframe tbody tr th {\n",
       "        vertical-align: top;\n",
       "    }\n",
       "\n",
       "    .dataframe thead th {\n",
       "        text-align: right;\n",
       "    }\n",
       "</style>\n",
       "<table border=\"1\" class=\"dataframe\">\n",
       "  <thead>\n",
       "    <tr style=\"text-align: right;\">\n",
       "      <th></th>\n",
       "      <th>사고건수</th>\n",
       "      <th>사망자수</th>\n",
       "      <th>부상자수</th>\n",
       "    </tr>\n",
       "  </thead>\n",
       "  <tbody>\n",
       "    <tr>\n",
       "      <th>count</th>\n",
       "      <td>12.000000</td>\n",
       "      <td>12.000000</td>\n",
       "      <td>12.000000</td>\n",
       "    </tr>\n",
       "    <tr>\n",
       "      <th>mean</th>\n",
       "      <td>9.750000</td>\n",
       "      <td>0.333333</td>\n",
       "      <td>10.333333</td>\n",
       "    </tr>\n",
       "    <tr>\n",
       "      <th>std</th>\n",
       "      <td>4.974937</td>\n",
       "      <td>0.492366</td>\n",
       "      <td>5.613836</td>\n",
       "    </tr>\n",
       "    <tr>\n",
       "      <th>min</th>\n",
       "      <td>1.000000</td>\n",
       "      <td>0.000000</td>\n",
       "      <td>1.000000</td>\n",
       "    </tr>\n",
       "    <tr>\n",
       "      <th>25%</th>\n",
       "      <td>6.750000</td>\n",
       "      <td>0.000000</td>\n",
       "      <td>6.750000</td>\n",
       "    </tr>\n",
       "    <tr>\n",
       "      <th>50%</th>\n",
       "      <td>9.000000</td>\n",
       "      <td>0.000000</td>\n",
       "      <td>10.000000</td>\n",
       "    </tr>\n",
       "    <tr>\n",
       "      <th>75%</th>\n",
       "      <td>13.000000</td>\n",
       "      <td>1.000000</td>\n",
       "      <td>14.250000</td>\n",
       "    </tr>\n",
       "    <tr>\n",
       "      <th>max</th>\n",
       "      <td>20.000000</td>\n",
       "      <td>1.000000</td>\n",
       "      <td>20.000000</td>\n",
       "    </tr>\n",
       "  </tbody>\n",
       "</table>\n",
       "</div>"
      ],
      "text/plain": [
       "            사고건수       사망자수       부상자수\n",
       "count  12.000000  12.000000  12.000000\n",
       "mean    9.750000   0.333333  10.333333\n",
       "std     4.974937   0.492366   5.613836\n",
       "min     1.000000   0.000000   1.000000\n",
       "25%     6.750000   0.000000   6.750000\n",
       "50%     9.000000   0.000000  10.000000\n",
       "75%    13.000000   1.000000  14.250000\n",
       "max    20.000000   1.000000  20.000000"
      ]
     },
     "execution_count": 22,
     "metadata": {},
     "output_type": "execute_result"
    }
   ],
   "source": [
    "time_2017.describe()"
   ]
  },
  {
   "cell_type": "code",
   "execution_count": 23,
   "id": "9b46d148",
   "metadata": {},
   "outputs": [
    {
     "data": {
      "text/plain": [
       "<AxesSubplot:xlabel='시간별'>"
      ]
     },
     "execution_count": 23,
     "metadata": {},
     "output_type": "execute_result"
    },
    {
     "data": {
      "text/plain": [
       "<Figure size 720x720 with 0 Axes>"
      ]
     },
     "metadata": {},
     "output_type": "display_data"
    },
    {
     "data": {
      "image/png": "[encoded data removed]",
      "text/plain": [
       "<Figure size 432x288 with 1 Axes>"
      ]
     },
     "metadata": {
      "needs_background": "light"
     },
     "output_type": "display_data"
    }
   ],
   "source": [
    "plt.figure(figsize=(10, 10))\n",
    "time_2017.plot(kind='bar', y='사고건수')"
   ]
  },
  {
   "cell_type": "code",
   "execution_count": 24,
   "id": "affa9e4e",
   "metadata": {},
   "outputs": [
    {
     "data": {
      "text/plain": [
       "<AxesSubplot:xlabel='시간별'>"
      ]
     },
     "execution_count": 24,
     "metadata": {},
     "output_type": "execute_result"
    },
    {
     "data": {
      "text/plain": [
       "<Figure size 720x720 with 0 Axes>"
      ]
     },
     "metadata": {},
     "output_type": "display_data"
    },
    {
     "data": {
      "image/png": "[encoded data removed]",
      "text/plain": [
       "<Figure size 432x288 with 1 Axes>"
      ]
     },
     "metadata": {
      "needs_background": "light"
     },
     "output_type": "display_data"
    }
   ],
   "source": [
    "plt.figure(figsize=(10, 10))\n",
    "time_2017.plot(kind='bar', y='부상자수')"
   ]
  },
  {
   "cell_type": "code",
   "execution_count": 25,
   "id": "a1ac5be5",
   "metadata": {},
   "outputs": [
    {
     "data": {
      "text/html": [
       "<div>\n",
       "<style scoped>\n",
       "    .dataframe tbody tr th:only-of-type {\n",
       "        vertical-align: middle;\n",
       "    }\n",
       "\n",
       "    .dataframe tbody tr th {\n",
       "        vertical-align: top;\n",
       "    }\n",
       "\n",
       "    .dataframe thead th {\n",
       "        text-align: right;\n",
       "    }\n",
       "</style>\n",
       "<table border=\"1\" class=\"dataframe\">\n",
       "  <thead>\n",
       "    <tr style=\"text-align: right;\">\n",
       "      <th></th>\n",
       "      <th>사고건수</th>\n",
       "      <th>사망자수</th>\n",
       "      <th>부상자수</th>\n",
       "    </tr>\n",
       "    <tr>\n",
       "      <th>시간별</th>\n",
       "      <th></th>\n",
       "      <th></th>\n",
       "      <th></th>\n",
       "    </tr>\n",
       "  </thead>\n",
       "  <tbody>\n",
       "    <tr>\n",
       "      <th>0시~2시</th>\n",
       "      <td>15</td>\n",
       "      <td>0</td>\n",
       "      <td>17</td>\n",
       "    </tr>\n",
       "    <tr>\n",
       "      <th>2시~4시</th>\n",
       "      <td>4</td>\n",
       "      <td>0</td>\n",
       "      <td>4</td>\n",
       "    </tr>\n",
       "    <tr>\n",
       "      <th>4시~6시</th>\n",
       "      <td>8</td>\n",
       "      <td>0</td>\n",
       "      <td>8</td>\n",
       "    </tr>\n",
       "    <tr>\n",
       "      <th>6시~8시</th>\n",
       "      <td>13</td>\n",
       "      <td>0</td>\n",
       "      <td>13</td>\n",
       "    </tr>\n",
       "    <tr>\n",
       "      <th>8시~10시</th>\n",
       "      <td>35</td>\n",
       "      <td>1</td>\n",
       "      <td>34</td>\n",
       "    </tr>\n",
       "    <tr>\n",
       "      <th>10시~12시</th>\n",
       "      <td>12</td>\n",
       "      <td>0</td>\n",
       "      <td>14</td>\n",
       "    </tr>\n",
       "    <tr>\n",
       "      <th>12시~14시</th>\n",
       "      <td>14</td>\n",
       "      <td>0</td>\n",
       "      <td>15</td>\n",
       "    </tr>\n",
       "    <tr>\n",
       "      <th>14시~16시</th>\n",
       "      <td>21</td>\n",
       "      <td>1</td>\n",
       "      <td>23</td>\n",
       "    </tr>\n",
       "    <tr>\n",
       "      <th>16시~18시</th>\n",
       "      <td>23</td>\n",
       "      <td>0</td>\n",
       "      <td>25</td>\n",
       "    </tr>\n",
       "    <tr>\n",
       "      <th>18시~20시</th>\n",
       "      <td>27</td>\n",
       "      <td>1</td>\n",
       "      <td>27</td>\n",
       "    </tr>\n",
       "    <tr>\n",
       "      <th>20시~22시</th>\n",
       "      <td>29</td>\n",
       "      <td>0</td>\n",
       "      <td>33</td>\n",
       "    </tr>\n",
       "    <tr>\n",
       "      <th>22시~24시</th>\n",
       "      <td>24</td>\n",
       "      <td>1</td>\n",
       "      <td>25</td>\n",
       "    </tr>\n",
       "  </tbody>\n",
       "</table>\n",
       "</div>"
      ],
      "text/plain": [
       "         사고건수  사망자수  부상자수\n",
       "시간별                      \n",
       "0시~2시      15     0    17\n",
       "2시~4시       4     0     4\n",
       "4시~6시       8     0     8\n",
       "6시~8시      13     0    13\n",
       "8시~10시     35     1    34\n",
       "10시~12시    12     0    14\n",
       "12시~14시    14     0    15\n",
       "14시~16시    21     1    23\n",
       "16시~18시    23     0    25\n",
       "18시~20시    27     1    27\n",
       "20시~22시    29     0    33\n",
       "22시~24시    24     1    25"
      ]
     },
     "execution_count": 25,
     "metadata": {},
     "output_type": "execute_result"
    }
   ],
   "source": [
    "time_2018"
   ]
  },
  {
   "cell_type": "code",
   "execution_count": 26,
   "id": "9bdf2060",
   "metadata": {},
   "outputs": [
    {
     "data": {
      "text/plain": [
       "사고건수    225\n",
       "사망자수      4\n",
       "부상자수    238\n",
       "dtype: int64"
      ]
     },
     "execution_count": 26,
     "metadata": {},
     "output_type": "execute_result"
    }
   ],
   "source": [
    "time_2018.sum()"
   ]
  },
  {
   "cell_type": "code",
   "execution_count": 27,
   "id": "f72a5664",
   "metadata": {},
   "outputs": [
    {
     "data": {
      "text/plain": [
       "사고건수    18.750000\n",
       "사망자수     0.333333\n",
       "부상자수    19.833333\n",
       "dtype: float64"
      ]
     },
     "execution_count": 27,
     "metadata": {},
     "output_type": "execute_result"
    }
   ],
   "source": [
    "time_2018.mean()"
   ]
  },
  {
   "cell_type": "code",
   "execution_count": 28,
   "id": "daca75fd",
   "metadata": {},
   "outputs": [
    {
     "data": {
      "text/html": [
       "<div>\n",
       "<style scoped>\n",
       "    .dataframe tbody tr th:only-of-type {\n",
       "        vertical-align: middle;\n",
       "    }\n",
       "\n",
       "    .dataframe tbody tr th {\n",
       "        vertical-align: top;\n",
       "    }\n",
       "\n",
       "    .dataframe thead th {\n",
       "        text-align: right;\n",
       "    }\n",
       "</style>\n",
       "<table border=\"1\" class=\"dataframe\">\n",
       "  <thead>\n",
       "    <tr style=\"text-align: right;\">\n",
       "      <th></th>\n",
       "      <th>사고건수</th>\n",
       "      <th>사망자수</th>\n",
       "      <th>부상자수</th>\n",
       "    </tr>\n",
       "  </thead>\n",
       "  <tbody>\n",
       "    <tr>\n",
       "      <th>count</th>\n",
       "      <td>12.000000</td>\n",
       "      <td>12.000000</td>\n",
       "      <td>12.000000</td>\n",
       "    </tr>\n",
       "    <tr>\n",
       "      <th>mean</th>\n",
       "      <td>18.750000</td>\n",
       "      <td>0.333333</td>\n",
       "      <td>19.833333</td>\n",
       "    </tr>\n",
       "    <tr>\n",
       "      <th>std</th>\n",
       "      <td>9.225705</td>\n",
       "      <td>0.492366</td>\n",
       "      <td>9.494815</td>\n",
       "    </tr>\n",
       "    <tr>\n",
       "      <th>min</th>\n",
       "      <td>4.000000</td>\n",
       "      <td>0.000000</td>\n",
       "      <td>4.000000</td>\n",
       "    </tr>\n",
       "    <tr>\n",
       "      <th>25%</th>\n",
       "      <td>12.750000</td>\n",
       "      <td>0.000000</td>\n",
       "      <td>13.750000</td>\n",
       "    </tr>\n",
       "    <tr>\n",
       "      <th>50%</th>\n",
       "      <td>18.000000</td>\n",
       "      <td>0.000000</td>\n",
       "      <td>20.000000</td>\n",
       "    </tr>\n",
       "    <tr>\n",
       "      <th>75%</th>\n",
       "      <td>24.750000</td>\n",
       "      <td>1.000000</td>\n",
       "      <td>25.500000</td>\n",
       "    </tr>\n",
       "    <tr>\n",
       "      <th>max</th>\n",
       "      <td>35.000000</td>\n",
       "      <td>1.000000</td>\n",
       "      <td>34.000000</td>\n",
       "    </tr>\n",
       "  </tbody>\n",
       "</table>\n",
       "</div>"
      ],
      "text/plain": [
       "            사고건수       사망자수       부상자수\n",
       "count  12.000000  12.000000  12.000000\n",
       "mean   18.750000   0.333333  19.833333\n",
       "std     9.225705   0.492366   9.494815\n",
       "min     4.000000   0.000000   4.000000\n",
       "25%    12.750000   0.000000  13.750000\n",
       "50%    18.000000   0.000000  20.000000\n",
       "75%    24.750000   1.000000  25.500000\n",
       "max    35.000000   1.000000  34.000000"
      ]
     },
     "execution_count": 28,
     "metadata": {},
     "output_type": "execute_result"
    }
   ],
   "source": [
    "time_2018.describe()"
   ]
  },
  {
   "cell_type": "code",
   "execution_count": 29,
   "id": "bf6fc358",
   "metadata": {},
   "outputs": [
    {
     "data": {
      "text/plain": [
       "<AxesSubplot:xlabel='시간별'>"
      ]
     },
     "execution_count": 29,
     "metadata": {},
     "output_type": "execute_result"
    },
    {
     "data": {
      "text/plain": [
       "<Figure size 720x720 with 0 Axes>"
      ]
     },
     "metadata": {},
     "output_type": "display_data"
    },
    {
     "data": {
      "image/png": "[encoded data removed]",
      "text/plain": [
       "<Figure size 432x288 with 1 Axes>"
      ]
     },
     "metadata": {
      "needs_background": "light"
     },
     "output_type": "display_data"
    }
   ],
   "source": [
    "plt.figure(figsize=(10, 10))\n",
    "time_2018.plot(kind='bar', y='사고건수')"
   ]
  },
  {
   "cell_type": "code",
   "execution_count": 30,
   "id": "0ccbf662",
   "metadata": {},
   "outputs": [
    {
     "data": {
      "text/plain": [
       "<AxesSubplot:xlabel='시간별'>"
      ]
     },
     "execution_count": 30,
     "metadata": {},
     "output_type": "execute_result"
    },
    {
     "data": {
      "text/plain": [
       "<Figure size 720x720 with 0 Axes>"
      ]
     },
     "metadata": {},
     "output_type": "display_data"
    },
    {
     "data": {
      "image/png": "[encoded data removed]",
      "text/plain": [
       "<Figure size 432x288 with 1 Axes>"
      ]
     },
     "metadata": {
      "needs_background": "light"
     },
     "output_type": "display_data"
    }
   ],
   "source": [
    "plt.figure(figsize=(10, 10))\n",
    "time_2018.plot(kind='bar', y='부상자수')"
   ]
  },
  {
   "cell_type": "code",
   "execution_count": 31,
   "id": "c88a51b7",
   "metadata": {},
   "outputs": [
    {
     "data": {
      "text/html": [
       "<div>\n",
       "<style scoped>\n",
       "    .dataframe tbody tr th:only-of-type {\n",
       "        vertical-align: middle;\n",
       "    }\n",
       "\n",
       "    .dataframe tbody tr th {\n",
       "        vertical-align: top;\n",
       "    }\n",
       "\n",
       "    .dataframe thead th {\n",
       "        text-align: right;\n",
       "    }\n",
       "</style>\n",
       "<table border=\"1\" class=\"dataframe\">\n",
       "  <thead>\n",
       "    <tr style=\"text-align: right;\">\n",
       "      <th></th>\n",
       "      <th>사고건수</th>\n",
       "      <th>사망자수</th>\n",
       "      <th>부상자수</th>\n",
       "    </tr>\n",
       "    <tr>\n",
       "      <th>시간별</th>\n",
       "      <th></th>\n",
       "      <th></th>\n",
       "      <th></th>\n",
       "    </tr>\n",
       "  </thead>\n",
       "  <tbody>\n",
       "    <tr>\n",
       "      <th>0시~2시</th>\n",
       "      <td>23</td>\n",
       "      <td>0</td>\n",
       "      <td>24</td>\n",
       "    </tr>\n",
       "    <tr>\n",
       "      <th>2시~4시</th>\n",
       "      <td>14</td>\n",
       "      <td>0</td>\n",
       "      <td>14</td>\n",
       "    </tr>\n",
       "    <tr>\n",
       "      <th>4시~6시</th>\n",
       "      <td>12</td>\n",
       "      <td>0</td>\n",
       "      <td>14</td>\n",
       "    </tr>\n",
       "    <tr>\n",
       "      <th>6시~8시</th>\n",
       "      <td>29</td>\n",
       "      <td>2</td>\n",
       "      <td>27</td>\n",
       "    </tr>\n",
       "    <tr>\n",
       "      <th>8시~10시</th>\n",
       "      <td>56</td>\n",
       "      <td>1</td>\n",
       "      <td>59</td>\n",
       "    </tr>\n",
       "    <tr>\n",
       "      <th>10시~12시</th>\n",
       "      <td>40</td>\n",
       "      <td>0</td>\n",
       "      <td>41</td>\n",
       "    </tr>\n",
       "    <tr>\n",
       "      <th>12시~14시</th>\n",
       "      <td>31</td>\n",
       "      <td>0</td>\n",
       "      <td>32</td>\n",
       "    </tr>\n",
       "    <tr>\n",
       "      <th>14시~16시</th>\n",
       "      <td>44</td>\n",
       "      <td>1</td>\n",
       "      <td>44</td>\n",
       "    </tr>\n",
       "    <tr>\n",
       "      <th>16시~18시</th>\n",
       "      <td>53</td>\n",
       "      <td>0</td>\n",
       "      <td>61</td>\n",
       "    </tr>\n",
       "    <tr>\n",
       "      <th>18시~20시</th>\n",
       "      <td>59</td>\n",
       "      <td>1</td>\n",
       "      <td>63</td>\n",
       "    </tr>\n",
       "    <tr>\n",
       "      <th>20시~22시</th>\n",
       "      <td>47</td>\n",
       "      <td>1</td>\n",
       "      <td>48</td>\n",
       "    </tr>\n",
       "    <tr>\n",
       "      <th>22시~24시</th>\n",
       "      <td>39</td>\n",
       "      <td>2</td>\n",
       "      <td>46</td>\n",
       "    </tr>\n",
       "  </tbody>\n",
       "</table>\n",
       "</div>"
      ],
      "text/plain": [
       "         사고건수  사망자수  부상자수\n",
       "시간별                      \n",
       "0시~2시      23     0    24\n",
       "2시~4시      14     0    14\n",
       "4시~6시      12     0    14\n",
       "6시~8시      29     2    27\n",
       "8시~10시     56     1    59\n",
       "10시~12시    40     0    41\n",
       "12시~14시    31     0    32\n",
       "14시~16시    44     1    44\n",
       "16시~18시    53     0    61\n",
       "18시~20시    59     1    63\n",
       "20시~22시    47     1    48\n",
       "22시~24시    39     2    46"
      ]
     },
     "execution_count": 31,
     "metadata": {},
     "output_type": "execute_result"
    }
   ],
   "source": [
    "time_2019"
   ]
  },
  {
   "cell_type": "code",
   "execution_count": 32,
   "id": "16a5b62a",
   "metadata": {},
   "outputs": [
    {
     "data": {
      "text/plain": [
       "사고건수    447\n",
       "사망자수      8\n",
       "부상자수    473\n",
       "dtype: int64"
      ]
     },
     "execution_count": 32,
     "metadata": {},
     "output_type": "execute_result"
    }
   ],
   "source": [
    "time_2019.sum()"
   ]
  },
  {
   "cell_type": "code",
   "execution_count": 33,
   "id": "9acea105",
   "metadata": {},
   "outputs": [
    {
     "data": {
      "text/plain": [
       "사고건수    37.250000\n",
       "사망자수     0.666667\n",
       "부상자수    39.416667\n",
       "dtype: float64"
      ]
     },
     "execution_count": 33,
     "metadata": {},
     "output_type": "execute_result"
    }
   ],
   "source": [
    "time_2019.mean()"
   ]
  },
  {
   "cell_type": "code",
   "execution_count": 34,
   "id": "0b234c16",
   "metadata": {},
   "outputs": [
    {
     "data": {
      "text/html": [
       "<div>\n",
       "<style scoped>\n",
       "    .dataframe tbody tr th:only-of-type {\n",
       "        vertical-align: middle;\n",
       "    }\n",
       "\n",
       "    .dataframe tbody tr th {\n",
       "        vertical-align: top;\n",
       "    }\n",
       "\n",
       "    .dataframe thead th {\n",
       "        text-align: right;\n",
       "    }\n",
       "</style>\n",
       "<table border=\"1\" class=\"dataframe\">\n",
       "  <thead>\n",
       "    <tr style=\"text-align: right;\">\n",
       "      <th></th>\n",
       "      <th>사고건수</th>\n",
       "      <th>사망자수</th>\n",
       "      <th>부상자수</th>\n",
       "    </tr>\n",
       "  </thead>\n",
       "  <tbody>\n",
       "    <tr>\n",
       "      <th>count</th>\n",
       "      <td>12.00000</td>\n",
       "      <td>12.000000</td>\n",
       "      <td>12.000000</td>\n",
       "    </tr>\n",
       "    <tr>\n",
       "      <th>mean</th>\n",
       "      <td>37.25000</td>\n",
       "      <td>0.666667</td>\n",
       "      <td>39.416667</td>\n",
       "    </tr>\n",
       "    <tr>\n",
       "      <th>std</th>\n",
       "      <td>15.70249</td>\n",
       "      <td>0.778499</td>\n",
       "      <td>17.280879</td>\n",
       "    </tr>\n",
       "    <tr>\n",
       "      <th>min</th>\n",
       "      <td>12.00000</td>\n",
       "      <td>0.000000</td>\n",
       "      <td>14.000000</td>\n",
       "    </tr>\n",
       "    <tr>\n",
       "      <th>25%</th>\n",
       "      <td>27.50000</td>\n",
       "      <td>0.000000</td>\n",
       "      <td>26.250000</td>\n",
       "    </tr>\n",
       "    <tr>\n",
       "      <th>50%</th>\n",
       "      <td>39.50000</td>\n",
       "      <td>0.500000</td>\n",
       "      <td>42.500000</td>\n",
       "    </tr>\n",
       "    <tr>\n",
       "      <th>75%</th>\n",
       "      <td>48.50000</td>\n",
       "      <td>1.000000</td>\n",
       "      <td>50.750000</td>\n",
       "    </tr>\n",
       "    <tr>\n",
       "      <th>max</th>\n",
       "      <td>59.00000</td>\n",
       "      <td>2.000000</td>\n",
       "      <td>63.000000</td>\n",
       "    </tr>\n",
       "  </tbody>\n",
       "</table>\n",
       "</div>"
      ],
      "text/plain": [
       "           사고건수       사망자수       부상자수\n",
       "count  12.00000  12.000000  12.000000\n",
       "mean   37.25000   0.666667  39.416667\n",
       "std    15.70249   0.778499  17.280879\n",
       "min    12.00000   0.000000  14.000000\n",
       "25%    27.50000   0.000000  26.250000\n",
       "50%    39.50000   0.500000  42.500000\n",
       "75%    48.50000   1.000000  50.750000\n",
       "max    59.00000   2.000000  63.000000"
      ]
     },
     "execution_count": 34,
     "metadata": {},
     "output_type": "execute_result"
    }
   ],
   "source": [
    "time_2019.describe()"
   ]
  },
  {
   "cell_type": "code",
   "execution_count": 35,
   "id": "cbf3153a",
   "metadata": {},
   "outputs": [
    {
     "data": {
      "text/plain": [
       "<AxesSubplot:xlabel='시간별'>"
      ]
     },
     "execution_count": 35,
     "metadata": {},
     "output_type": "execute_result"
    },
    {
     "data": {
      "text/plain": [
       "<Figure size 720x720 with 0 Axes>"
      ]
     },
     "metadata": {},
     "output_type": "display_data"
    },
    {
     "data": {
      "image/png": "[encoded data removed]",
      "text/plain": [
       "<Figure size 432x288 with 1 Axes>"
      ]
     },
     "metadata": {
      "needs_background": "light"
     },
     "output_type": "display_data"
    }
   ],
   "source": [
    "plt.figure(figsize=(10, 10))\n",
    "time_2019.plot(kind='bar', y='사고건수')"
   ]
  },
  {
   "cell_type": "code",
   "execution_count": 36,
   "id": "0fcac368",
   "metadata": {},
   "outputs": [
    {
     "data": {
      "text/plain": [
       "<AxesSubplot:xlabel='시간별'>"
      ]
     },
     "execution_count": 36,
     "metadata": {},
     "output_type": "execute_result"
    },
    {
     "data": {
      "text/plain": [
       "<Figure size 720x720 with 0 Axes>"
      ]
     },
     "metadata": {},
     "output_type": "display_data"
    },
    {
     "data": {
      "image/png": "[encoded data removed]",
      "text/plain": [
       "<Figure size 432x288 with 1 Axes>"
      ]
     },
     "metadata": {
      "needs_background": "light"
     },
     "output_type": "display_data"
    }
   ],
   "source": [
    "plt.figure(figsize=(10, 10))\n",
    "time_2019.plot(kind='bar', y='부상자수')"
   ]
  },
  {
   "cell_type": "code",
   "execution_count": 37,
   "id": "a1c0e6a7",
   "metadata": {},
   "outputs": [
    {
     "data": {
      "text/html": [
       "<div>\n",
       "<style scoped>\n",
       "    .dataframe tbody tr th:only-of-type {\n",
       "        vertical-align: middle;\n",
       "    }\n",
       "\n",
       "    .dataframe tbody tr th {\n",
       "        vertical-align: top;\n",
       "    }\n",
       "\n",
       "    .dataframe thead th {\n",
       "        text-align: right;\n",
       "    }\n",
       "</style>\n",
       "<table border=\"1\" class=\"dataframe\">\n",
       "  <thead>\n",
       "    <tr style=\"text-align: right;\">\n",
       "      <th></th>\n",
       "      <th>사고건수</th>\n",
       "      <th>사망자수</th>\n",
       "      <th>부상자수</th>\n",
       "    </tr>\n",
       "    <tr>\n",
       "      <th>시간별</th>\n",
       "      <th></th>\n",
       "      <th></th>\n",
       "      <th></th>\n",
       "    </tr>\n",
       "  </thead>\n",
       "  <tbody>\n",
       "    <tr>\n",
       "      <th>0시~2시</th>\n",
       "      <td>72</td>\n",
       "      <td>0</td>\n",
       "      <td>83</td>\n",
       "    </tr>\n",
       "    <tr>\n",
       "      <th>2시~4시</th>\n",
       "      <td>36</td>\n",
       "      <td>0</td>\n",
       "      <td>39</td>\n",
       "    </tr>\n",
       "    <tr>\n",
       "      <th>4시~6시</th>\n",
       "      <td>18</td>\n",
       "      <td>0</td>\n",
       "      <td>20</td>\n",
       "    </tr>\n",
       "    <tr>\n",
       "      <th>6시~8시</th>\n",
       "      <td>41</td>\n",
       "      <td>1</td>\n",
       "      <td>44</td>\n",
       "    </tr>\n",
       "    <tr>\n",
       "      <th>8시~10시</th>\n",
       "      <td>81</td>\n",
       "      <td>0</td>\n",
       "      <td>92</td>\n",
       "    </tr>\n",
       "    <tr>\n",
       "      <th>10시~12시</th>\n",
       "      <td>48</td>\n",
       "      <td>1</td>\n",
       "      <td>51</td>\n",
       "    </tr>\n",
       "    <tr>\n",
       "      <th>12시~14시</th>\n",
       "      <td>72</td>\n",
       "      <td>1</td>\n",
       "      <td>75</td>\n",
       "    </tr>\n",
       "    <tr>\n",
       "      <th>14시~16시</th>\n",
       "      <td>77</td>\n",
       "      <td>3</td>\n",
       "      <td>80</td>\n",
       "    </tr>\n",
       "    <tr>\n",
       "      <th>16시~18시</th>\n",
       "      <td>124</td>\n",
       "      <td>1</td>\n",
       "      <td>145</td>\n",
       "    </tr>\n",
       "    <tr>\n",
       "      <th>18시~20시</th>\n",
       "      <td>121</td>\n",
       "      <td>0</td>\n",
       "      <td>134</td>\n",
       "    </tr>\n",
       "    <tr>\n",
       "      <th>20시~22시</th>\n",
       "      <td>114</td>\n",
       "      <td>3</td>\n",
       "      <td>120</td>\n",
       "    </tr>\n",
       "    <tr>\n",
       "      <th>22시~24시</th>\n",
       "      <td>93</td>\n",
       "      <td>0</td>\n",
       "      <td>102</td>\n",
       "    </tr>\n",
       "  </tbody>\n",
       "</table>\n",
       "</div>"
      ],
      "text/plain": [
       "         사고건수  사망자수  부상자수\n",
       "시간별                      \n",
       "0시~2시      72     0    83\n",
       "2시~4시      36     0    39\n",
       "4시~6시      18     0    20\n",
       "6시~8시      41     1    44\n",
       "8시~10시     81     0    92\n",
       "10시~12시    48     1    51\n",
       "12시~14시    72     1    75\n",
       "14시~16시    77     3    80\n",
       "16시~18시   124     1   145\n",
       "18시~20시   121     0   134\n",
       "20시~22시   114     3   120\n",
       "22시~24시    93     0   102"
      ]
     },
     "execution_count": 37,
     "metadata": {},
     "output_type": "execute_result"
    }
   ],
   "source": [
    "time_2020"
   ]
  },
  {
   "cell_type": "code",
   "execution_count": 38,
   "id": "92e75b1c",
   "metadata": {},
   "outputs": [
    {
     "data": {
      "text/plain": [
       "사고건수    897\n",
       "사망자수     10\n",
       "부상자수    985\n",
       "dtype: int64"
      ]
     },
     "execution_count": 38,
     "metadata": {},
     "output_type": "execute_result"
    }
   ],
   "source": [
    "time_2020.sum()"
   ]
  },
  {
   "cell_type": "code",
   "execution_count": 39,
   "id": "da0f0017",
   "metadata": {},
   "outputs": [
    {
     "data": {
      "text/plain": [
       "사고건수    74.750000\n",
       "사망자수     0.833333\n",
       "부상자수    82.083333\n",
       "dtype: float64"
      ]
     },
     "execution_count": 39,
     "metadata": {},
     "output_type": "execute_result"
    }
   ],
   "source": [
    "time_2020.mean()"
   ]
  },
  {
   "cell_type": "code",
   "execution_count": 40,
   "id": "3d758822",
   "metadata": {},
   "outputs": [
    {
     "data": {
      "text/html": [
       "<div>\n",
       "<style scoped>\n",
       "    .dataframe tbody tr th:only-of-type {\n",
       "        vertical-align: middle;\n",
       "    }\n",
       "\n",
       "    .dataframe tbody tr th {\n",
       "        vertical-align: top;\n",
       "    }\n",
       "\n",
       "    .dataframe thead th {\n",
       "        text-align: right;\n",
       "    }\n",
       "</style>\n",
       "<table border=\"1\" class=\"dataframe\">\n",
       "  <thead>\n",
       "    <tr style=\"text-align: right;\">\n",
       "      <th></th>\n",
       "      <th>사고건수</th>\n",
       "      <th>사망자수</th>\n",
       "      <th>부상자수</th>\n",
       "    </tr>\n",
       "  </thead>\n",
       "  <tbody>\n",
       "    <tr>\n",
       "      <th>count</th>\n",
       "      <td>12.000000</td>\n",
       "      <td>12.000000</td>\n",
       "      <td>12.000000</td>\n",
       "    </tr>\n",
       "    <tr>\n",
       "      <th>mean</th>\n",
       "      <td>74.750000</td>\n",
       "      <td>0.833333</td>\n",
       "      <td>82.083333</td>\n",
       "    </tr>\n",
       "    <tr>\n",
       "      <th>std</th>\n",
       "      <td>34.475617</td>\n",
       "      <td>1.114641</td>\n",
       "      <td>39.044167</td>\n",
       "    </tr>\n",
       "    <tr>\n",
       "      <th>min</th>\n",
       "      <td>18.000000</td>\n",
       "      <td>0.000000</td>\n",
       "      <td>20.000000</td>\n",
       "    </tr>\n",
       "    <tr>\n",
       "      <th>25%</th>\n",
       "      <td>46.250000</td>\n",
       "      <td>0.000000</td>\n",
       "      <td>49.250000</td>\n",
       "    </tr>\n",
       "    <tr>\n",
       "      <th>50%</th>\n",
       "      <td>74.500000</td>\n",
       "      <td>0.500000</td>\n",
       "      <td>81.500000</td>\n",
       "    </tr>\n",
       "    <tr>\n",
       "      <th>75%</th>\n",
       "      <td>98.250000</td>\n",
       "      <td>1.000000</td>\n",
       "      <td>106.500000</td>\n",
       "    </tr>\n",
       "    <tr>\n",
       "      <th>max</th>\n",
       "      <td>124.000000</td>\n",
       "      <td>3.000000</td>\n",
       "      <td>145.000000</td>\n",
       "    </tr>\n",
       "  </tbody>\n",
       "</table>\n",
       "</div>"
      ],
      "text/plain": [
       "             사고건수       사망자수        부상자수\n",
       "count   12.000000  12.000000   12.000000\n",
       "mean    74.750000   0.833333   82.083333\n",
       "std     34.475617   1.114641   39.044167\n",
       "min     18.000000   0.000000   20.000000\n",
       "25%     46.250000   0.000000   49.250000\n",
       "50%     74.500000   0.500000   81.500000\n",
       "75%     98.250000   1.000000  106.500000\n",
       "max    124.000000   3.000000  145.000000"
      ]
     },
     "execution_count": 40,
     "metadata": {},
     "output_type": "execute_result"
    }
   ],
   "source": [
    "time_2020.describe()"
   ]
  },
  {
   "cell_type": "code",
   "execution_count": 41,
   "id": "ed16e8b9",
   "metadata": {},
   "outputs": [
    {
     "data": {
      "text/plain": [
       "<AxesSubplot:xlabel='시간별'>"
      ]
     },
     "execution_count": 41,
     "metadata": {},
     "output_type": "execute_result"
    },
    {
     "data": {
      "text/plain": [
       "<Figure size 720x720 with 0 Axes>"
      ]
     },
     "metadata": {},
     "output_type": "display_data"
    },
    {
     "data": {
      "image/png": "[encoded data removed]",
      "text/plain": [
       "<Figure size 432x288 with 1 Axes>"
      ]
     },
     "metadata": {
      "needs_background": "light"
     },
     "output_type": "display_data"
    }
   ],
   "source": [
    "plt.figure(figsize=(10, 10))\n",
    "time_2020.plot(kind='bar', y='사고건수')"
   ]
  },
  {
   "cell_type": "code",
   "execution_count": 42,
   "id": "e7d8de88",
   "metadata": {},
   "outputs": [
    {
     "data": {
      "text/plain": [
       "<AxesSubplot:xlabel='시간별'>"
      ]
     },
     "execution_count": 42,
     "metadata": {},
     "output_type": "execute_result"
    },
    {
     "data": {
      "text/plain": [
       "<Figure size 720x720 with 0 Axes>"
      ]
     },
     "metadata": {},
     "output_type": "display_data"
    },
    {
     "data": {
      "image/png": "[encoded data removed]",
      "text/plain": [
       "<Figure size 432x288 with 1 Axes>"
      ]
     },
     "metadata": {
      "needs_background": "light"
     },
     "output_type": "display_data"
    }
   ],
   "source": [
    "plt.figure(figsize=(10, 10))\n",
    "time_2020.plot(kind='bar', y='부상자수')"
   ]
  },
  {
   "cell_type": "code",
   "execution_count": 43,
   "id": "4f4fb6d7",
   "metadata": {},
   "outputs": [
    {
     "data": {
      "text/html": [
       "<div>\n",
       "<style scoped>\n",
       "    .dataframe tbody tr th:only-of-type {\n",
       "        vertical-align: middle;\n",
       "    }\n",
       "\n",
       "    .dataframe tbody tr th {\n",
       "        vertical-align: top;\n",
       "    }\n",
       "\n",
       "    .dataframe thead th {\n",
       "        text-align: right;\n",
       "    }\n",
       "</style>\n",
       "<table border=\"1\" class=\"dataframe\">\n",
       "  <thead>\n",
       "    <tr style=\"text-align: right;\">\n",
       "      <th></th>\n",
       "      <th>사고건수</th>\n",
       "      <th>사망자수</th>\n",
       "      <th>부상자수</th>\n",
       "    </tr>\n",
       "    <tr>\n",
       "      <th>시간별</th>\n",
       "      <th></th>\n",
       "      <th></th>\n",
       "      <th></th>\n",
       "    </tr>\n",
       "  </thead>\n",
       "  <tbody>\n",
       "    <tr>\n",
       "      <th>0시~2시</th>\n",
       "      <td>91</td>\n",
       "      <td>2</td>\n",
       "      <td>104</td>\n",
       "    </tr>\n",
       "    <tr>\n",
       "      <th>2시~4시</th>\n",
       "      <td>47</td>\n",
       "      <td>0</td>\n",
       "      <td>47</td>\n",
       "    </tr>\n",
       "    <tr>\n",
       "      <th>4시~6시</th>\n",
       "      <td>28</td>\n",
       "      <td>2</td>\n",
       "      <td>30</td>\n",
       "    </tr>\n",
       "    <tr>\n",
       "      <th>6시~8시</th>\n",
       "      <td>52</td>\n",
       "      <td>1</td>\n",
       "      <td>57</td>\n",
       "    </tr>\n",
       "    <tr>\n",
       "      <th>8시~10시</th>\n",
       "      <td>135</td>\n",
       "      <td>2</td>\n",
       "      <td>141</td>\n",
       "    </tr>\n",
       "    <tr>\n",
       "      <th>10시~12시</th>\n",
       "      <td>122</td>\n",
       "      <td>1</td>\n",
       "      <td>136</td>\n",
       "    </tr>\n",
       "    <tr>\n",
       "      <th>12시~14시</th>\n",
       "      <td>142</td>\n",
       "      <td>0</td>\n",
       "      <td>160</td>\n",
       "    </tr>\n",
       "    <tr>\n",
       "      <th>14시~16시</th>\n",
       "      <td>185</td>\n",
       "      <td>3</td>\n",
       "      <td>195</td>\n",
       "    </tr>\n",
       "    <tr>\n",
       "      <th>16시~18시</th>\n",
       "      <td>250</td>\n",
       "      <td>0</td>\n",
       "      <td>275</td>\n",
       "    </tr>\n",
       "    <tr>\n",
       "      <th>18시~20시</th>\n",
       "      <td>247</td>\n",
       "      <td>0</td>\n",
       "      <td>279</td>\n",
       "    </tr>\n",
       "    <tr>\n",
       "      <th>20시~22시</th>\n",
       "      <td>204</td>\n",
       "      <td>5</td>\n",
       "      <td>217</td>\n",
       "    </tr>\n",
       "    <tr>\n",
       "      <th>22시~24시</th>\n",
       "      <td>232</td>\n",
       "      <td>3</td>\n",
       "      <td>260</td>\n",
       "    </tr>\n",
       "  </tbody>\n",
       "</table>\n",
       "</div>"
      ],
      "text/plain": [
       "         사고건수  사망자수  부상자수\n",
       "시간별                      \n",
       "0시~2시      91     2   104\n",
       "2시~4시      47     0    47\n",
       "4시~6시      28     2    30\n",
       "6시~8시      52     1    57\n",
       "8시~10시    135     2   141\n",
       "10시~12시   122     1   136\n",
       "12시~14시   142     0   160\n",
       "14시~16시   185     3   195\n",
       "16시~18시   250     0   275\n",
       "18시~20시   247     0   279\n",
       "20시~22시   204     5   217\n",
       "22시~24시   232     3   260"
      ]
     },
     "execution_count": 43,
     "metadata": {},
     "output_type": "execute_result"
    }
   ],
   "source": [
    "time_2021"
   ]
  },
  {
   "cell_type": "code",
   "execution_count": 44,
   "id": "06b1b3e5",
   "metadata": {},
   "outputs": [
    {
     "data": {
      "text/plain": [
       "사고건수    1735\n",
       "사망자수      19\n",
       "부상자수    1901\n",
       "dtype: int64"
      ]
     },
     "execution_count": 44,
     "metadata": {},
     "output_type": "execute_result"
    }
   ],
   "source": [
    "time_2021.sum()"
   ]
  },
  {
   "cell_type": "code",
   "execution_count": 45,
   "id": "b4250825",
   "metadata": {},
   "outputs": [
    {
     "data": {
      "text/plain": [
       "사고건수    144.583333\n",
       "사망자수      1.583333\n",
       "부상자수    158.416667\n",
       "dtype: float64"
      ]
     },
     "execution_count": 45,
     "metadata": {},
     "output_type": "execute_result"
    }
   ],
   "source": [
    "time_2021.mean()"
   ]
  },
  {
   "cell_type": "code",
   "execution_count": 46,
   "id": "5662b302",
   "metadata": {},
   "outputs": [
    {
     "data": {
      "text/html": [
       "<div>\n",
       "<style scoped>\n",
       "    .dataframe tbody tr th:only-of-type {\n",
       "        vertical-align: middle;\n",
       "    }\n",
       "\n",
       "    .dataframe tbody tr th {\n",
       "        vertical-align: top;\n",
       "    }\n",
       "\n",
       "    .dataframe thead th {\n",
       "        text-align: right;\n",
       "    }\n",
       "</style>\n",
       "<table border=\"1\" class=\"dataframe\">\n",
       "  <thead>\n",
       "    <tr style=\"text-align: right;\">\n",
       "      <th></th>\n",
       "      <th>사고건수</th>\n",
       "      <th>사망자수</th>\n",
       "      <th>부상자수</th>\n",
       "    </tr>\n",
       "  </thead>\n",
       "  <tbody>\n",
       "    <tr>\n",
       "      <th>count</th>\n",
       "      <td>12.000000</td>\n",
       "      <td>12.000000</td>\n",
       "      <td>12.000000</td>\n",
       "    </tr>\n",
       "    <tr>\n",
       "      <th>mean</th>\n",
       "      <td>144.583333</td>\n",
       "      <td>1.583333</td>\n",
       "      <td>158.416667</td>\n",
       "    </tr>\n",
       "    <tr>\n",
       "      <th>std</th>\n",
       "      <td>79.528678</td>\n",
       "      <td>1.564279</td>\n",
       "      <td>88.513438</td>\n",
       "    </tr>\n",
       "    <tr>\n",
       "      <th>min</th>\n",
       "      <td>28.000000</td>\n",
       "      <td>0.000000</td>\n",
       "      <td>30.000000</td>\n",
       "    </tr>\n",
       "    <tr>\n",
       "      <th>25%</th>\n",
       "      <td>81.250000</td>\n",
       "      <td>0.000000</td>\n",
       "      <td>92.250000</td>\n",
       "    </tr>\n",
       "    <tr>\n",
       "      <th>50%</th>\n",
       "      <td>138.500000</td>\n",
       "      <td>1.500000</td>\n",
       "      <td>150.500000</td>\n",
       "    </tr>\n",
       "    <tr>\n",
       "      <th>75%</th>\n",
       "      <td>211.000000</td>\n",
       "      <td>2.250000</td>\n",
       "      <td>227.750000</td>\n",
       "    </tr>\n",
       "    <tr>\n",
       "      <th>max</th>\n",
       "      <td>250.000000</td>\n",
       "      <td>5.000000</td>\n",
       "      <td>279.000000</td>\n",
       "    </tr>\n",
       "  </tbody>\n",
       "</table>\n",
       "</div>"
      ],
      "text/plain": [
       "             사고건수       사망자수        부상자수\n",
       "count   12.000000  12.000000   12.000000\n",
       "mean   144.583333   1.583333  158.416667\n",
       "std     79.528678   1.564279   88.513438\n",
       "min     28.000000   0.000000   30.000000\n",
       "25%     81.250000   0.000000   92.250000\n",
       "50%    138.500000   1.500000  150.500000\n",
       "75%    211.000000   2.250000  227.750000\n",
       "max    250.000000   5.000000  279.000000"
      ]
     },
     "execution_count": 46,
     "metadata": {},
     "output_type": "execute_result"
    }
   ],
   "source": [
    "time_2021.describe()"
   ]
  },
  {
   "cell_type": "code",
   "execution_count": 47,
   "id": "58fb13a5",
   "metadata": {},
   "outputs": [
    {
     "data": {
      "text/plain": [
       "<AxesSubplot:xlabel='시간별'>"
      ]
     },
     "execution_count": 47,
     "metadata": {},
     "output_type": "execute_result"
    },
    {
     "data": {
      "text/plain": [
       "<Figure size 720x720 with 0 Axes>"
      ]
     },
     "metadata": {},
     "output_type": "display_data"
    },
    {
     "data": {
      "image/png": "[encoded data removed]",
      "text/plain": [
       "<Figure size 432x288 with 1 Axes>"
      ]
     },
     "metadata": {
      "needs_background": "light"
     },
     "output_type": "display_data"
    }
   ],
   "source": [
    "plt.figure(figsize=(10, 10))\n",
    "time_2021.plot(kind='bar', y='사고건수')"
   ]
  },
  {
   "cell_type": "code",
   "execution_count": 48,
   "id": "fe2b3655",
   "metadata": {},
   "outputs": [
    {
     "data": {
      "text/plain": [
       "<AxesSubplot:xlabel='시간별'>"
      ]
     },
     "execution_count": 48,
     "metadata": {},
     "output_type": "execute_result"
    },
    {
     "data": {
      "text/plain": [
       "<Figure size 720x720 with 0 Axes>"
      ]
     },
     "metadata": {},
     "output_type": "display_data"
    },
    {
     "data": {
      "image/png": "[encoded data removed]",
      "text/plain": [
       "<Figure size 432x288 with 1 Axes>"
      ]
     },
     "metadata": {
      "needs_background": "light"
     },
     "output_type": "display_data"
    }
   ],
   "source": [
    "plt.figure(figsize=(10, 10))\n",
    "time_2021.plot(kind='bar', y='부상자수')"
   ]
  }
 ],
 "metadata": {
  "kernelspec": {
   "display_name": "Python 3",
   "language": "python",
   "name": "python3"
  },
  "language_info": {
   "codemirror_mode": {
    "name": "ipython",
    "version": 3
   },
   "file_extension": ".py",
   "mimetype": "text/x-python",
   "name": "python",
   "nbconvert_exporter": "python",
   "pygments_lexer": "ipython3",
   "version": "3.8.8"
  }
 },
 "nbformat": 4,
 "nbformat_minor": 5
}
